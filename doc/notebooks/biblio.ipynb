{
 "cells": [
  {
   "cell_type": "raw",
   "metadata": {},
   "source": [
    ".. _biblio:"
   ]
  },
  {
   "cell_type": "markdown",
   "metadata": {},
   "source": [
    "# Bibliography"
   ]
  },
  {
   "cell_type": "raw",
   "metadata": {},
   "source": [
    ".. [Baù2012] Baù, D., & Marti-Renom, M. a. (2012). Genome structure determination via 3C-based data integration by the Integrative Modeling Platform. Methods, 58(3), 300–6. doi:10.1016/j.ymeth.2012.04.004\n",
    "\n",
    ".. [Bystricky2004] Bystricky, K., Heun, P., Gehlen, L., Langowski, J., & Gasser, S. M. (2004). Long-range compaction and flexibility of interphase chromatin in budding yeast analyzed by high-resolution imaging techniques. Proceedings of the National Academy of Sciences of the United States of America, 101(47), 16495–500. doi:10.1073/pnas.0402766101\n",
    "\n",
    ".. [CalinskiHarabasz1974] Calinski, T., & Harabasz, J. (1974). A dendrite method for cluster analysis. Communications in Statistics Theory and Methods, 3, 1–27. doi:10.1080/03610927408827101\n",
    "\n",
    ".. [Dekker2013] Dekker, J., Marti-Renom, M. a, & Mirny, L. a. (2013). Exploring the three-dimensional organization of genomes: interpreting chromatin interaction data. Nature Reviews. Genetics, 14(6), 390–403. doi:10.1038/nrg3454\n",
    "\n",
    ".. [DiLena2010] Di Lena, P., Fariselli, P., Margara, L., Vassura, M. & Casadio, R. Fast overlapping of protein contact maps by alignment of eigenvectors. Bioinformatics (Oxford, England) 26, 2250–8 (2010).\n",
    "\n",
    ".. [Dixon2012] Dixon, J. R., Selvaraj, S., Yue, F., Kim, A., Li, Y., Shen, Y., Hu, M., et al. (2012). Topological domains in mammalian genomes identified by analysis of chromatin interactions. Nature, 485(7398), 376–80. doi:10.1038/nature11082\n",
    "\n",
    ".. [Fujita2011] Fujita, P. A., Rhead, B., Zweig, A. S., Hinrichs, A. S., Karolchik, D., Cline, M. S., Goldman, M., et al. (2011). The UCSC Genome Browser database: update 2011. Nucleic Acids Research, 39(Database issue), D876-82. doi:10.1093/nar/gkq963\n",
    "\n",
    ".. [Lieberman-Aiden2009] Lieberman-Aiden, Erez, van Berkum, Nynke L, Williams, Louise, Imakaev, Maxim, Ragoczy, Tobias, Telling, Agnes, Amit, Ido, Lajoie, Bryan R, Sabo, Peter J, Dorschner, Michael O, Sandstrom, Richard, Bernstein, Bradley, Bender, M A, Groudine, Mark, Gnirke, Andreas, Stamatoyannopoulos, John A, Mirny, Leonid A, Lander, Eric S, Dekker, Job (2009). Comprehensive mapping of long-range interactions reveals folding principles of the human genome. Science, 326(5950), 289–93. doi:10.1126/science.1181369\n",
    "\n",
    ".. [MilliganCooper1985] Milligan, G. W., & Cooper, M. C. (1985). An examination of procedures for determining the number of clusters in a data set. Psychometrika, 50, 159–179. doi:10.1007/BF02294245\n",
    "\n",
    ".. [Rao2014] Rao, S.S.P. et al. (2014). A 3D Map of the Human Genome at Kilobase Resolution Reveals Principles of Chromatin Looping. Cell, 159(7), pp.25497547.25497547\n",
    "\n",
    ".. [Tibshirani2001] Tibshirani, R., Walther, G., & Hastie, T. (2001). Estimating the number of clusters in a data set via the gap statistic. Journal of the Royal Statistical Society - Series B: Statistical Methodology, 63, 411–423. doi:10.1111/1467-9868.00293\n"
   ]
  }
 ],
 "metadata": {
  "kernelspec": {
   "display_name": "Python 2",
   "language": "python",
   "name": "python2"
  },
  "language_info": {
   "codemirror_mode": {
    "name": "ipython",
    "version": 2
   },
   "file_extension": ".py",
   "mimetype": "text/x-python",
   "name": "python",
   "nbconvert_exporter": "python",
   "pygments_lexer": "ipython2",
   "version": "2.7.11"
  }
 },
 "nbformat": 4,
 "nbformat_minor": 0
}
