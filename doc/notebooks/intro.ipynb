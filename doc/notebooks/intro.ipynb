{
 "metadata": {
  "name": ""
 },
 "nbformat": 3,
 "nbformat_minor": 0,
 "worksheets": [
  {
   "cells": [
    {
     "cell_type": "raw",
     "metadata": {},
     "source": [
      ".. _intro:"
     ]
    },
    {
     "cell_type": "heading",
     "level": 1,
     "metadata": {},
     "source": [
      "Introduction\n"
     ]
    },
    {
     "cell_type": "raw",
     "metadata": {},
     "source": [
      ".. contents::\n",
      "   :depth: 3"
     ]
    },
    {
     "cell_type": "heading",
     "level": 2,
     "metadata": {},
     "source": [
      "What is Tadbit?"
     ]
    },
    {
     "cell_type": "raw",
     "metadata": {},
     "source": [
      "TADBit is a computational package that deals with 3C-based data (more specifically Hi-C data) to detect Topologically A\n",
      "ssociating Domain (TAD) borders and to further analyze TADs by: i) the identification of conserved TAD borders and ii) \n",
      "the definition of sets of TADs sharing structural features iii) the three-dimensional modeling of the chromatin.\n",
      "\n",
      "Hi-C experiments generate genomic interaction data that is usually summarized at the chromosome level. TADBit is built \n",
      "around the concept of chromosome, and uses it as a central item to compare different Hi-C experiments. The library has \n",
      "been designed to be used by researchers with minimal level of expertise in computer science; the all-in-one scripts pro\n",
      "vided in TADBit allow to run a full analysis in one single command line, while advanced users may produce their own pro\n",
      "grams using TADBit as a complementary tool."
     ]
    },
    {
     "cell_type": "heading",
     "level": 2,
     "metadata": {},
     "source": [
      "Why? \n"
     ]
    }
   ],
   "metadata": {}
  }
 ]
}