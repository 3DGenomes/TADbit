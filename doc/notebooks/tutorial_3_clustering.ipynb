{
 "metadata": {
  "name": ""
 },
 "nbformat": 3,
 "nbformat_minor": 0,
 "worksheets": [
  {
   "cells": [
    {
     "cell_type": "heading",
     "level": 1,
     "metadata": {},
     "source": [
      "TAD clustering"
     ]
    },
    {
     "cell_type": "raw",
     "metadata": {},
     "source": [
      "\n",
      "\n",
      ".. contents::\n",
      "   :depth: 3\n",
      "\n",
      "TADbit allows to compare the topology of TADs using directly a Hi-C matrix. This comparison is done using \n",
      "the same methodology used for protein structure comparison with contact map overlap (CMO) [DiLena2010]_.\n",
      "\n",
      "The function that allows such comparison is :func:`pytadbit.tad_clustering.tad_cmo.optimal_cmo`. The \n",
      "comparisons are pairwise; the main idea of using it is to pull together several of these pairwise comparisons \n",
      "in order to find group of TADs with specific characteristics.\n",
      "\n"
     ]
    },
    {
     "cell_type": "heading",
     "level": 2,
     "metadata": {},
     "source": [
      "Compare two TADs"
     ]
    },
    {
     "cell_type": "raw",
     "metadata": {},
     "source": [
      "To compare TADs, a Chromosome with defined TADs is needed. Thus, following with the example chromosome used \n",
      "in :ref:`getting_start` (following the example up to :ref:`run_tadbit`), these re the steps to follow:\n"
     ]
    },
    {
     "cell_type": "code",
     "collapsed": false,
     "input": [
      "from pytadbit import Chromosome\n",
      "my_chrom = Chromosome(name='My first chromosome')\n",
      "my_chrom.add_experiment('First Hi-C experiment', hic_data=\"../../scripts/sample_data/HIC_k562_chr19_chr19_100000_obs.txt\", resolution=100000)\n",
      "my_chrom.find_tad('First Hi-C experiment')\n",
      "\n"
     ],
     "language": "python",
     "metadata": {},
     "outputs": [
      {
       "output_type": "stream",
       "stream": "stderr",
       "text": [
        "/usr/local/lib/python2.7/dist-packages/pytadbit/parsers/hic_parser.py:93: UserWarning: WARNING: non integer values\n",
        "  warn('WARNING: non integer values')\n"
       ]
      }
     ],
     "prompt_number": 1
    },
    {
     "cell_type": "raw",
     "metadata": {},
     "source": [
      "Once done, all the TADs for this chromosome will be defined. To select two TADs:\n"
     ]
    },
    {
     "cell_type": "code",
     "collapsed": false,
     "input": [
      "tad1 = list(my_chrom.iter_tads('First Hi-C experiment'))[31]\n",
      "tad2 = list(my_chrom.iter_tads('First Hi-C experiment'))[35]\n"
     ],
     "language": "python",
     "metadata": {},
     "outputs": [],
     "prompt_number": 2
    },
    {
     "cell_type": "raw",
     "metadata": {},
     "source": [
      "\n",
      "And to align them:\n",
      "\n"
     ]
    },
    {
     "cell_type": "code",
     "collapsed": false,
     "input": [
      "\n",
      "from pytadbit.tad_clustering.tad_cmo import optimal_cmo\n",
      "align1, align2, score = optimal_cmo(tad1[1], tad2[1], max_num_v=8, long_nw=True, long_dist=True, method='frobenius')\n"
     ],
     "language": "python",
     "metadata": {},
     "outputs": [],
     "prompt_number": 4
    },
    {
     "cell_type": "raw",
     "metadata": {},
     "source": [
      "\n",
      "The optimal_cmo function returns two alignments corresponding to the sequence of gaps needed for each TAD to \n",
      "be aligned with the other. The score element contains three values, an alignment score that depends on the \n",
      "method used to align, and the p-value and rho value of the Spearman correlation between the two Hi-C matrices.\n"
     ]
    },
    {
     "cell_type": "code",
     "collapsed": false,
     "input": [
      "from pytadbit.tad_clustering.tad_cmo import optimal_cmo\n"
     ],
     "language": "python",
     "metadata": {},
     "outputs": [],
     "prompt_number": 3
    },
    {
     "cell_type": "raw",
     "metadata": {},
     "source": [
      "Following is the output of the example script *'clustering.py'*:\n",
      "\n",
      ".. figure::  ../pictures/clustering.png\n",
      "   :align:   center\n",
      "   :width:   900\n"
     ]
    }
   ],
   "metadata": {}
  }
 ]
}