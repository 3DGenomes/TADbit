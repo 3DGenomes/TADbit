{
 "metadata": {
  "name": ""
 },
 "nbformat": 3,
 "nbformat_minor": 0,
 "worksheets": [
  {
   "cells": [
    {
     "cell_type": "heading",
     "level": 1,
     "metadata": {},
     "source": [
      "Parameter optimization for IMP."
     ]
    },
    {
     "cell_type": "raw",
     "metadata": {},
     "source": [
      "*Recover data from previous section by loading the previously saved chromosome and its Hi-C data.*"
     ]
    },
    {
     "cell_type": "raw",
     "metadata": {},
     "source": [
      "Import the necessary libraries."
     ]
    },
    {
     "cell_type": "code",
     "collapsed": false,
     "input": [
      "# Libraries\n",
      "from pytadbit import load_chromosome # to load chromosomes\n",
      "from pytadbit.imp.impoptimizer import IMPoptimizer\n"
     ],
     "language": "python",
     "metadata": {},
     "outputs": [],
     "prompt_number": 1
    },
    {
     "cell_type": "raw",
     "metadata": {},
     "source": [
      "First, load the chromosome from previous tutorial (:ref:`run_tadbit`)."
     ]
    },
    {
     "cell_type": "code",
     "collapsed": false,
     "input": [
      "# Load the chromosome\n",
      "my_chrom = load_chromosome('some_path.tdb')\n"
     ],
     "language": "python",
     "metadata": {},
     "outputs": [],
     "prompt_number": 2
    },
    {
     "cell_type": "raw",
     "metadata": {},
     "source": [
      "Next, load Hi-C data for each experiment (Hi-C data is not saved inside chromosome objects because of their size):"
     ]
    },
    {
     "cell_type": "code",
     "collapsed": false,
     "input": [
      "# Loop over experiments in chromosome and load Hi-C data.\n",
      "res = 100000\n",
      "\n",
      "for exp in my_chrom.experiments:\n",
      "    try:\n",
      "        exp.load_hic_data('../../scripts/sample_data/HIC_{0}_{1}_{1}_{2}_obs.txt'.format(\n",
      "                          exp.name, my_chrom.name, res))\n",
      "    except IOError:\n",
      "        print 'file not found for experiment: ' + exp.name\n",
      "        continue\n",
      "    print exp\n"
     ],
     "language": "python",
     "metadata": {},
     "outputs": [
      {
       "output_type": "stream",
       "stream": "stderr",
       "text": [
        "/usr/local/lib/python2.7/dist-packages/pytadbit/parsers/hic_parser.py:89: UserWarning: WARNING: non integer values\n",
        "  warn('WARNING: non integer values')\n",
        "\n",
        "WARNING: removing columns having less than 24.165 counts: (detected threshold)\n",
        "    8    9   10   12  245  246  247  248  249  250  251  252  253  254  255\n",
        "  256  257  258  259  260  261  262  263  264  265  266  267  268  269  270\n",
        "  271  272  273  274  275  276  277  278  279  280  281  282  283  284  285\n",
        "  286  287  288  289  290  291  292  293  294  295  296  297  298  299  300\n",
        "  301  302  303  304  305  306  307  308  309  310  311  312  313  314  315\n",
        "  316  317  318  319  320  321  322  323  324  639\n"
       ]
      },
      {
       "output_type": "stream",
       "stream": "stdout",
       "text": [
        "Experiment k562:\n",
        "   resolution        : 100Kb\n",
        "   TADs              : 37\n",
        "   Hi-C rows         : 639\n",
        "   normalized        : None\n",
        "   identifier        : k562\n",
        "   cell type         : wild type\n",
        "   restriction enzyme: UNKNOWN\n",
        "   project           : TADbit tutorial\n",
        "\n",
        "Experiment gm06690:\n",
        "   resolution        : 100Kb\n",
        "   TADs              : 34\n",
        "   Hi-C rows         : 639\n",
        "   normalized        : None\n",
        "   identifier        : gm06690\n",
        "   cell type         : cancer\n",
        "   restriction enzyme: UNKNOWN\n",
        "   project           : TADbit tutorial\n"
       ]
      },
      {
       "output_type": "stream",
       "stream": "stdout",
       "text": [
        "\n",
        "file not found for experiment: k562+gm06690\n",
        "file not found for experiment: batch_gm06690_k562\n"
       ]
      },
      {
       "output_type": "stream",
       "stream": "stderr",
       "text": [
        "/usr/local/lib/python2.7/dist-packages/pytadbit/utils/hic_filtering.py:209: ComplexWarning: Casting complex values to real discards the imaginary part\n",
        "  round(root, 3), ' '.join(\n",
        "\n",
        "WARNING: removing columns having less than 67.485 counts: (detected threshold)\n",
        "  246  247  248  249  250  251  252  253  254  255  256  257  258  259  260\n",
        "  261  262  263  264  265  266  267  268  269  270  271  272  273  274  275\n",
        "  276  277  278  279  280  281  282  283  284  285  286  287  288  289  290\n",
        "  291  292  293  294  295  296  297  298  299  300  301  302  303  304  305\n",
        "  306  307  308  309  310  311  312  313  314  315  316  317  318  319  320\n",
        "  321  322  323  324  639\n"
       ]
      }
     ],
     "prompt_number": 3
    },
    {
     "cell_type": "raw",
     "metadata": {},
     "source": [
      "The log indicates that experiment \"k562+gm06690\" had no file. Such experiment was built ad-hoc in our previous tutorial and needs to be created again by summing the Hi-C matrices from the individual experiments."
     ]
    },
    {
     "cell_type": "code",
     "collapsed": false,
     "input": [
      "# Load Hi-C of the individual experiments and put it into the sum experiment BR+TR1+TR2\n",
      "my_chrom.experiments['k562+gm06690'].load_hic_data(\n",
      "              (my_chrom.experiments['k562'] + my_chrom.experiments['gm06690']).hic_data, \n",
      "              'k562+gm06690')\n",
      "exp = my_chrom.experiments['gm06690']\n",
      "\n",
      "print my_chrom.experiments\n"
     ],
     "language": "python",
     "metadata": {},
     "outputs": [
      {
       "output_type": "stream",
       "stream": "stderr",
       "text": [
        "\n",
        "WARNING: removing columns having less than 73.545 counts: (detected threshold)\n",
        "  246  247  248  249  250  251  252  253  254  255  256  257  258  259  260\n",
        "  261  262  263  264  265  266  267  268  269  270  271  272  273  274  275\n",
        "  276  277  278  279  280  281  282  283  284  285  286  287  288  289  290\n",
        "  291  292  293  294  295  296  297  298  299  300  301  302  303  304  305\n",
        "  306  307  308  309  310  311  312  313  314  315  316  317  318  319  320\n",
        "  321  322  323  324  639\n",
        "/usr/local/lib/python2.7/dist-packages/pytadbit/experiment.py:196: UserWarning: WARNING: experiments should be normalized before being summed\n",
        "\n",
        "  'summed\\n')\n",
        "\n",
        "WARNING: removing columns having less than 73.545 counts: (detected threshold)\n",
        "  246  247  248  249  250  251  252  253  254  255  256  257  258  259  260\n",
        "  261  262  263  264  265  266  267  268  269  270  271  272  273  274  275\n",
        "  276  277  278  279  280  281  282  283  284  285  286  287  288  289  290\n",
        "  291  292  293  294  295  296  297  298  299  300  301  302  303  304  305\n",
        "  306  307  308  309  310  311  312  313  314  315  316  317  318  319  320\n",
        "  321  322  323  324  639\n"
       ]
      },
      {
       "output_type": "stream",
       "stream": "stdout",
       "text": [
        "[Experiment k562 (resolution: 100Kb, TADs: 37, Hi-C rows: 639, normalized: None), Experiment gm06690 (resolution: 100Kb, TADs: 34, Hi-C rows: 639, normalized: None), Experiment k562+gm06690 (resolution: 100Kb, TADs: None, Hi-C rows: 639, normalized: None), Experiment batch_gm06690_k562 (resolution: 100Kb, TADs: 35, Hi-C rows: 639, normalized: None)]\n"
       ]
      }
     ],
     "prompt_number": 4
    },
    {
     "cell_type": "heading",
     "level": 2,
     "metadata": {},
     "source": [
      "Optimization of IMP 3D modeling parameters"
     ]
    },
    {
     "cell_type": "raw",
     "metadata": {},
     "source": [
      "In the previous tutorial we found a specific TAD (region 406 to 448) that seemed quite conserved accross different cell types.\n",
      "\n",
      "Next, we will optimize the three IMP parameters for this TAD. The IMP parameters to optimize are maximal distance between two non-interacting particles (maxdist), Upper-bound Z-score (upfreq) and Lower-bound Z-score (lowfreq). For details see Bau & Marti-Renom. METHODS [Ba\u00f92012]_."
     ]
    },
    {
     "cell_type": "code",
     "collapsed": false,
     "input": [
      "optimizer = IMPoptimizer(exp, 100, 200, n_models=50, n_keep=25, cutoff=2000)"
     ],
     "language": "python",
     "metadata": {},
     "outputs": [
      {
       "output_type": "stream",
       "stream": "stderr",
       "text": [
        "/usr/local/lib/python2.7/dist-packages/pytadbit/experiment.py:648: UserWarning: WARNING: normalizing according to visibility method\n",
        "  warn('WARNING: normalizing according to visibility method')\n"
       ]
      }
     ],
     "prompt_number": 5
    },
    {
     "cell_type": "raw",
     "metadata": {},
     "source": [
      "``cutoff`` value corresponds to the distance limit, in nanometers, to consider if two particles of a model are interacting or not. A wise choice corresponds to two time the resolution times the scale factor (0.01), which in this case is :math:`cutoff = 100Kb \\times 2 \\times scale = 100000 \\times 2 \\times 0.01 = 2000`\n",
      "\n",
      "*Note: Usually the number of models to generate and to keep, should be respectively 500 and 100.*"
     ]
    },
    {
     "cell_type": "code",
     "collapsed": false,
     "input": [
      "# Optimize parameters. Be aware that this step is CPU intensive. If you want to se the progress, set verbose=True.\n",
      "optimizer.run_grid_search(n_cpus=8, lowfreq_range=(-1, 0, 0.2), upfreq_range=(0.2, 0.8, 0.2), \n",
      "                          maxdist_range=(2000, 4000, 500), verbose=True)\n"
     ],
     "language": "python",
     "metadata": {},
     "outputs": [
      {
       "output_type": "stream",
       "stream": "stdout",
       "text": [
        "    1  0.2 -1 2000 0.01 0.7685079084\n"
       ]
      },
      {
       "output_type": "stream",
       "stream": "stdout",
       "text": [
        "    2  0.2 -0.8 2000 0.01 0.7685079084\n"
       ]
      },
      {
       "output_type": "stream",
       "stream": "stdout",
       "text": [
        "    3  0.2 -0.6 2000 0.01 0.769312534002\n"
       ]
      },
      {
       "output_type": "stream",
       "stream": "stdout",
       "text": [
        "    4  0.2 -0.4 2000 0.01 0.774552988272\n"
       ]
      },
      {
       "output_type": "stream",
       "stream": "stdout",
       "text": [
        "    5  0.2 -0.2 2000 0.01 0.774799693632\n"
       ]
      },
      {
       "output_type": "stream",
       "stream": "stdout",
       "text": [
        "    6  0.2 0 2000 0.01 0.779079372102\n"
       ]
      },
      {
       "output_type": "stream",
       "stream": "stdout",
       "text": [
        "    7  0.4 -1 2000 0.01 0.77968485295\n"
       ]
      },
      {
       "output_type": "stream",
       "stream": "stdout",
       "text": [
        "    8  0.4 -0.8 2000 0.01 0.77968485295\n"
       ]
      },
      {
       "output_type": "stream",
       "stream": "stdout",
       "text": [
        "    9  0.4 -0.6 2000 0.01 0.777330669016\n"
       ]
      },
      {
       "output_type": "stream",
       "stream": "stdout",
       "text": [
        "   10  0.4 -0.4 2000 0.01 0.781161643149\n"
       ]
      },
      {
       "output_type": "stream",
       "stream": "stdout",
       "text": [
        "   11  0.4 -0.2 2000 0.01 0.784325067495\n"
       ]
      },
      {
       "output_type": "stream",
       "stream": "stdout",
       "text": [
        "   12  0.4 0 2000 0.01 0.786674923707\n"
       ]
      },
      {
       "output_type": "stream",
       "stream": "stdout",
       "text": [
        "   13  0.6 -1 2000 0.01 0.784429455755\n"
       ]
      },
      {
       "output_type": "stream",
       "stream": "stdout",
       "text": [
        "   14  0.6 -0.8 2000 0.01 0.784429455755\n"
       ]
      },
      {
       "output_type": "stream",
       "stream": "stdout",
       "text": [
        "   15  0.6 -0.6 2000 0.01 0.785634447252\n"
       ]
      },
      {
       "output_type": "stream",
       "stream": "stdout",
       "text": [
        "   16  0.6 -0.4 2000 0.01 0.786321444973\n"
       ]
      },
      {
       "output_type": "stream",
       "stream": "stdout",
       "text": [
        "   17  0.6 -0.2 2000 0.01 0.786910943468\n"
       ]
      },
      {
       "output_type": "stream",
       "stream": "stdout",
       "text": [
        "   18  0.6 0 2000 0.01 0.786984401856\n"
       ]
      },
      {
       "output_type": "stream",
       "stream": "stdout",
       "text": [
        "   19  0.8 -1 2000 0.01 0.790513719434\n"
       ]
      },
      {
       "output_type": "stream",
       "stream": "stdout",
       "text": [
        "   20  0.8 -0.8 2000 0.01 0.790513719434\n"
       ]
      },
      {
       "output_type": "stream",
       "stream": "stdout",
       "text": [
        "   21  0.8 -0.6 2000 0.01 0.790296856543\n"
       ]
      },
      {
       "output_type": "stream",
       "stream": "stdout",
       "text": [
        "   22  0.8 -0.4 2000 0.01 0.793885340581\n"
       ]
      },
      {
       "output_type": "stream",
       "stream": "stdout",
       "text": [
        "   23  0.8 -0.2 2000 0.01 0.789759250026\n"
       ]
      },
      {
       "output_type": "stream",
       "stream": "stdout",
       "text": [
        "   24  0.8 0 2000 0.01 0.789797737342\n"
       ]
      },
      {
       "output_type": "stream",
       "stream": "stdout",
       "text": [
        "   25  0.2 -1 2500 0.01 0.750962048643\n"
       ]
      },
      {
       "output_type": "stream",
       "stream": "stdout",
       "text": [
        "   26  0.2 -0.8 2500 0.01 0.750962048643\n"
       ]
      },
      {
       "output_type": "stream",
       "stream": "stdout",
       "text": [
        "   27  0.2 -0.6 2500 0.01 0.757205157705\n"
       ]
      },
      {
       "output_type": "stream",
       "stream": "stdout",
       "text": [
        "   28  0.2 -0.4 2500 0.01 0.761306112068\n"
       ]
      },
      {
       "output_type": "stream",
       "stream": "stdout",
       "text": [
        "   29  0.2 -0.2 2500 0.01 0.774749585795\n"
       ]
      },
      {
       "output_type": "stream",
       "stream": "stdout",
       "text": [
        "   30  0.2 0 2500 0.01 0.77526716922\n"
       ]
      },
      {
       "output_type": "stream",
       "stream": "stdout",
       "text": [
        "   31  0.4 -1 2500 0.01 0.768413156879\n"
       ]
      },
      {
       "output_type": "stream",
       "stream": "stdout",
       "text": [
        "   32  0.4 -0.8 2500 0.01 0.768413156879\n"
       ]
      },
      {
       "output_type": "stream",
       "stream": "stdout",
       "text": [
        "   33  0.4 -0.6 2500 0.01 0.769621944212\n"
       ]
      },
      {
       "output_type": "stream",
       "stream": "stdout",
       "text": [
        "   34  0.4 -0.4 2500 0.01 0.774313586043\n"
       ]
      },
      {
       "output_type": "stream",
       "stream": "stdout",
       "text": [
        "   35  0.4 -0.2 2500 0.01 0.784154703349\n"
       ]
      },
      {
       "output_type": "stream",
       "stream": "stdout",
       "text": [
        "   36  0.4 0 2500 0.01 0.780215999106\n"
       ]
      },
      {
       "output_type": "stream",
       "stream": "stdout",
       "text": [
        "   37  0.6 -1 2500 0.01 0.7769226588\n"
       ]
      },
      {
       "output_type": "stream",
       "stream": "stdout",
       "text": [
        "   38  0.6 -0.8 2500 0.01 0.7769226588\n"
       ]
      },
      {
       "output_type": "stream",
       "stream": "stdout",
       "text": [
        "   39  0.6 -0.6 2500 0.01 0.7771795099\n"
       ]
      },
      {
       "output_type": "stream",
       "stream": "stdout",
       "text": [
        "   40  0.6 -0.4 2500 0.01 0.781692802602\n"
       ]
      },
      {
       "output_type": "stream",
       "stream": "stdout",
       "text": [
        "   41  0.6 -0.2 2500 0.01 0.791132811629\n"
       ]
      },
      {
       "output_type": "stream",
       "stream": "stdout",
       "text": [
        "   42  0.6 0 2500 0.01 0.791622500864\n"
       ]
      },
      {
       "output_type": "stream",
       "stream": "stdout",
       "text": [
        "   43  0.8 -1 2500 0.01 0.794414661228\n"
       ]
      },
      {
       "output_type": "stream",
       "stream": "stdout",
       "text": [
        "   44  0.8 -0.8 2500 0.01 0.794414661228\n"
       ]
      },
      {
       "output_type": "stream",
       "stream": "stdout",
       "text": [
        "   45  0.8 -0.6 2500 0.01 0.791675414244\n"
       ]
      },
      {
       "output_type": "stream",
       "stream": "stdout",
       "text": [
        "   46  0.8 -0.4 2500 0.01 0.797601045479\n"
       ]
      },
      {
       "output_type": "stream",
       "stream": "stdout",
       "text": [
        "   47  0.8 -0.2 2500 0.01 0.797521713992\n"
       ]
      },
      {
       "output_type": "stream",
       "stream": "stdout",
       "text": [
        "   48  0.8 0 2500 0.01 0.797093368434\n"
       ]
      },
      {
       "output_type": "stream",
       "stream": "stdout",
       "text": [
        "   49  0.2 -1 3000 0.01 0.747088558176\n"
       ]
      },
      {
       "output_type": "stream",
       "stream": "stdout",
       "text": [
        "   50  0.2 -0.8 3000 0.01 0.747088558176\n"
       ]
      },
      {
       "output_type": "stream",
       "stream": "stdout",
       "text": [
        "   51  0.2 -0.6 3000 0.01 0.745301762181\n"
       ]
      },
      {
       "output_type": "stream",
       "stream": "stdout",
       "text": [
        "   52  0.2 -0.4 3000 0.01 0.75657287698\n"
       ]
      },
      {
       "output_type": "stream",
       "stream": "stdout",
       "text": [
        "   53  0.2 -0.2 3000 0.01 0.768255433103\n"
       ]
      },
      {
       "output_type": "stream",
       "stream": "stdout",
       "text": [
        "   54  0.2 0 3000 0.01 0.771134956344\n"
       ]
      },
      {
       "output_type": "stream",
       "stream": "stdout",
       "text": [
        "   55  0.4 -1 3000 0.01 0.760224850725\n"
       ]
      },
      {
       "output_type": "stream",
       "stream": "stdout",
       "text": [
        "   56  0.4 -0.8 3000 0.01 0.760224850725\n"
       ]
      },
      {
       "output_type": "stream",
       "stream": "stdout",
       "text": [
        "   57  0.4 -0.6 3000 0.01 0.758212146329\n"
       ]
      },
      {
       "output_type": "stream",
       "stream": "stdout",
       "text": [
        "   58  0.4 -0.4 3000 0.01 0.76576862456\n"
       ]
      },
      {
       "output_type": "stream",
       "stream": "stdout",
       "text": [
        "   59  0.4 -0.2 3000 0.01 0.778685124478\n"
       ]
      },
      {
       "output_type": "stream",
       "stream": "stdout",
       "text": [
        "   60  0.4 0 3000 0.01 0.779102317515\n"
       ]
      },
      {
       "output_type": "stream",
       "stream": "stdout",
       "text": [
        "   61  0.6 -1 3000 0.01 0.77089869622\n"
       ]
      },
      {
       "output_type": "stream",
       "stream": "stdout",
       "text": [
        "   62  0.6 -0.8 3000 0.01 0.77089869622\n"
       ]
      },
      {
       "output_type": "stream",
       "stream": "stdout",
       "text": [
        "   63  0.6 -0.6 3000 0.01 0.771149348295\n"
       ]
      },
      {
       "output_type": "stream",
       "stream": "stdout",
       "text": [
        "   64  0.6 -0.4 3000 0.01 0.778054314513\n"
       ]
      },
      {
       "output_type": "stream",
       "stream": "stdout",
       "text": [
        "   65  0.6 -0.2 3000 0.01 0.788888301661\n"
       ]
      },
      {
       "output_type": "stream",
       "stream": "stdout",
       "text": [
        "   66  0.6 0 3000 0.01 0.792927420622\n"
       ]
      },
      {
       "output_type": "stream",
       "stream": "stdout",
       "text": [
        "   67  0.8 -1 3000 0.01 0.787058090092\n"
       ]
      },
      {
       "output_type": "stream",
       "stream": "stdout",
       "text": [
        "   68  0.8 -0.8 3000 0.01 0.787058090092\n"
       ]
      },
      {
       "output_type": "stream",
       "stream": "stdout",
       "text": [
        "   69  0.8 -0.6 3000 0.01 0.787064682158\n"
       ]
      },
      {
       "output_type": "stream",
       "stream": "stdout",
       "text": [
        "   70  0.8 -0.4 3000 0.01 0.789444985636\n"
       ]
      },
      {
       "output_type": "stream",
       "stream": "stdout",
       "text": [
        "   71  0.8 -0.2 3000 0.01 0.795363982681\n"
       ]
      },
      {
       "output_type": "stream",
       "stream": "stdout",
       "text": [
        "   72  0.8 0 3000 0.01 0.798344059632\n"
       ]
      },
      {
       "output_type": "stream",
       "stream": "stdout",
       "text": [
        "   73  0.2 -1 3500 0.01 0.742503135603\n"
       ]
      },
      {
       "output_type": "stream",
       "stream": "stdout",
       "text": [
        "   74  0.2 -0.8 3500 0.01 0.742503135603\n"
       ]
      },
      {
       "output_type": "stream",
       "stream": "stdout",
       "text": [
        "   75  0.2 -0.6 3500 0.01 0.745313876975\n"
       ]
      },
      {
       "output_type": "stream",
       "stream": "stdout",
       "text": [
        "   76  0.2 -0.4 3500 0.01 0.757818572633\n"
       ]
      },
      {
       "output_type": "stream",
       "stream": "stdout",
       "text": [
        "   77  0.2 -0.2 3500 0.01 0.768088409932\n"
       ]
      },
      {
       "output_type": "stream",
       "stream": "stdout",
       "text": [
        "   78  0.2 0 3500 0.01 0.772953014174\n"
       ]
      },
      {
       "output_type": "stream",
       "stream": "stdout",
       "text": [
        "   79  0.4 -1 3500 0.01 0.758090294693\n"
       ]
      },
      {
       "output_type": "stream",
       "stream": "stdout",
       "text": [
        "   80  0.4 -0.8 3500 0.01 0.758090294693\n"
       ]
      },
      {
       "output_type": "stream",
       "stream": "stdout",
       "text": [
        "   81  0.4 -0.6 3500 0.01 0.756077064231\n"
       ]
      },
      {
       "output_type": "stream",
       "stream": "stdout",
       "text": [
        "   82  0.4 -0.4 3500 0.01 0.760791799894\n"
       ]
      },
      {
       "output_type": "stream",
       "stream": "stdout",
       "text": [
        "   83  0.4 -0.2 3500 0.01 0.770118662441\n"
       ]
      },
      {
       "output_type": "stream",
       "stream": "stdout",
       "text": [
        "   84  0.4 0 3500 0.01 0.771190886989\n"
       ]
      },
      {
       "output_type": "stream",
       "stream": "stdout",
       "text": [
        "   85  0.6 -1 3500 0.01 0.755069982191\n"
       ]
      },
      {
       "output_type": "stream",
       "stream": "stdout",
       "text": [
        "   86  0.6 -0.8 3500 0.01 0.755069982191\n"
       ]
      },
      {
       "output_type": "stream",
       "stream": "stdout",
       "text": [
        "   87  0.6 -0.6 3500 0.01 0.753952944201\n"
       ]
      },
      {
       "output_type": "stream",
       "stream": "stdout",
       "text": [
        "   88  0.6 -0.4 3500 0.01 0.760897343161\n"
       ]
      },
      {
       "output_type": "stream",
       "stream": "stdout",
       "text": [
        "   89  0.6 -0.2 3500 0.01 0.771145005701\n"
       ]
      },
      {
       "output_type": "stream",
       "stream": "stdout",
       "text": [
        "   90  0.6 0 3500 0.01 0.773442327166\n"
       ]
      },
      {
       "output_type": "stream",
       "stream": "stdout",
       "text": [
        "   91  0.8 -1 3500 0.01 0.772281982099\n"
       ]
      },
      {
       "output_type": "stream",
       "stream": "stdout",
       "text": [
        "   92  0.8 -0.8 3500 0.01 0.772281982099\n"
       ]
      },
      {
       "output_type": "stream",
       "stream": "stdout",
       "text": [
        "   93  0.8 -0.6 3500 0.01 0.774513250696\n"
       ]
      },
      {
       "output_type": "stream",
       "stream": "stdout",
       "text": [
        "   94  0.8 -0.4 3500 0.01 0.776897099364\n"
       ]
      },
      {
       "output_type": "stream",
       "stream": "stdout",
       "text": [
        "   95  0.8 -0.2 3500 0.01 0.780965488029\n"
       ]
      },
      {
       "output_type": "stream",
       "stream": "stdout",
       "text": [
        "   96  0.8 0 3500 0.01 0.778109941084\n"
       ]
      },
      {
       "output_type": "stream",
       "stream": "stdout",
       "text": [
        "   97  0.2 -1 4000 0.01 0.74469288042\n"
       ]
      },
      {
       "output_type": "stream",
       "stream": "stdout",
       "text": [
        "   98  0.2 -0.8 4000 0.01 0.74469288042\n"
       ]
      },
      {
       "output_type": "stream",
       "stream": "stdout",
       "text": [
        "   99  0.2 -0.6 4000 0.01 0.744839537795\n"
       ]
      },
      {
       "output_type": "stream",
       "stream": "stdout",
       "text": [
        "  100  0.2 -0.4 4000 0.01 0.749552494453\n"
       ]
      },
      {
       "output_type": "stream",
       "stream": "stdout",
       "text": [
        "  101  0.2 -0.2 4000 0.01 0.756184508999\n"
       ]
      },
      {
       "output_type": "stream",
       "stream": "stdout",
       "text": [
        "  102  0.2 0 4000 0.01 0.759171645369\n"
       ]
      },
      {
       "output_type": "stream",
       "stream": "stdout",
       "text": [
        "  103  0.4 -1 4000 0.01 0.737113094756\n"
       ]
      },
      {
       "output_type": "stream",
       "stream": "stdout",
       "text": [
        "  104  0.4 -0.8 4000 0.01 0.737113094756\n"
       ]
      },
      {
       "output_type": "stream",
       "stream": "stdout",
       "text": [
        "  105  0.4 -0.6 4000 0.01 0.737373689722\n"
       ]
      },
      {
       "output_type": "stream",
       "stream": "stdout",
       "text": [
        "  106  0.4 -0.4 4000 0.01 0.739865712079\n"
       ]
      },
      {
       "output_type": "stream",
       "stream": "stdout",
       "text": [
        "  107  0.4 -0.2 4000 0.01 0.74968044876\n"
       ]
      },
      {
       "output_type": "stream",
       "stream": "stdout",
       "text": [
        "  108  0.4 0 4000 0.01 0.753525984586\n"
       ]
      },
      {
       "output_type": "stream",
       "stream": "stdout",
       "text": [
        "  109  0.6 -1 4000 0.01 0.740316370858\n"
       ]
      },
      {
       "output_type": "stream",
       "stream": "stdout",
       "text": [
        "  110  0.6 -0.8 4000 0.01 0.740316370858\n"
       ]
      },
      {
       "output_type": "stream",
       "stream": "stdout",
       "text": [
        "  111  0.6 -0.6 4000 0.01 0.739165113831\n"
       ]
      },
      {
       "output_type": "stream",
       "stream": "stdout",
       "text": [
        "  112  0.6 -0.4 4000 0.01 0.743513322704\n"
       ]
      },
      {
       "output_type": "stream",
       "stream": "stdout",
       "text": [
        "  113  0.6 -0.2 4000 0.01 0.7493620759\n"
       ]
      },
      {
       "output_type": "stream",
       "stream": "stdout",
       "text": [
        "  114  0.6 0 4000 0.01 0.751928906505\n"
       ]
      },
      {
       "output_type": "stream",
       "stream": "stdout",
       "text": [
        "  115  0.8 -1 4000 0.01 0.745707450814\n"
       ]
      },
      {
       "output_type": "stream",
       "stream": "stdout",
       "text": [
        "  116  0.8 -0.8 4000 0.01 0.745707450814\n"
       ]
      },
      {
       "output_type": "stream",
       "stream": "stdout",
       "text": [
        "  117  0.8 -0.6 4000 0.01 0.743929246866\n"
       ]
      },
      {
       "output_type": "stream",
       "stream": "stdout",
       "text": [
        "  118  0.8 -0.4 4000 0.01 0.746609953329\n"
       ]
      },
      {
       "output_type": "stream",
       "stream": "stdout",
       "text": [
        "  119  0.8 -0.2 4000 0.01 0.748258868417\n"
       ]
      },
      {
       "output_type": "stream",
       "stream": "stdout",
       "text": [
        "  120  0.8 0 4000 0.01 0.745006154143\n"
       ]
      }
     ],
     "prompt_number": 6
    },
    {
     "cell_type": "raw",
     "metadata": {},
     "source": [
      ".. note::\n",
      "   The above warning is given when a small matrix is loaded. TADbit has a filtering function that is applied to all Hi-C matrices with the aim of removing entire rows with very low counts. Those rows/colums are treated then for modeling as \"missing-data\" points. This flitering function can only be applied for relatively large matrices.\n",
      "\n",
      ".. note::\n",
      "   By default TADbit does not store the models generated during the optimization, however, in case they are needed, the option savedata may allow to store them.\n"
     ]
    },
    {
     "cell_type": "heading",
     "level": 3,
     "metadata": {},
     "source": [
      "Optimizing from Experiment"
     ]
    },
    {
     "cell_type": "raw",
     "metadata": {},
     "source": [
      "The exact same as above can be done from Experiment objects directly:"
     ]
    },
    {
     "cell_type": "code",
     "collapsed": false,
     "input": [
      "optimizer = exp.optimal_imp_parameters(100, 200, n_cpus=8, n_models=50, n_keep=25, cutoff=1000,\n",
      "                                       lowfreq_range=(-1, 0, 0.2), upfreq_range=(0.2, 0.8, 0.2), \n",
      "                                       scale_range=[0.005], maxdist_range=(2000, 4000, 500), \n",
      "                                       verbose=False)\n"
     ],
     "language": "python",
     "metadata": {},
     "outputs": [],
     "prompt_number": 7
    },
    {
     "cell_type": "heading",
     "level": 2,
     "metadata": {},
     "source": [
      "Visualize the results"
     ]
    },
    {
     "cell_type": "code",
     "collapsed": false,
     "input": [
      "optimizer.write_result('results.log')"
     ],
     "language": "python",
     "metadata": {},
     "outputs": [],
     "prompt_number": 8
    },
    {
     "cell_type": "code",
     "collapsed": false,
     "input": [
      "# Visualize the results of the optimization.\n",
      "optimizer.plot_2d()\n"
     ],
     "language": "python",
     "metadata": {},
     "outputs": [
      {
       "metadata": {},
       "output_type": "display_data",
       "png": "[encoded data removed]",
       "text": [
        "<matplotlib.figure.Figure at 0x7f12eda2b1d0>"
       ]
      }
     ],
     "prompt_number": 9
    },
    {
     "cell_type": "raw",
     "metadata": {},
     "source": [
      "We can also ask to mark on the plot the best N combination of parameters with the \"show_best\" parameter."
     ]
    },
    {
     "cell_type": "code",
     "collapsed": false,
     "input": [
      "# Visualize the results of the optimization and mark the best 10 parameter sets\n",
      "optimizer.plot_2d(show_best=20)\n"
     ],
     "language": "python",
     "metadata": {},
     "outputs": [
      {
       "metadata": {},
       "output_type": "display_data",
       "png": "[encoded data removed]",
       "text": [
        "<matplotlib.figure.Figure at 0x7f12edd50ed0>"
       ]
      }
     ],
     "prompt_number": 10
    },
    {
     "cell_type": "code",
     "collapsed": false,
     "input": [
      "axes_range = [[float(i) for i in optimizer.scale_range],\n",
      "                    [float(i) for i in optimizer.maxdist_range],\n",
      "                    [float(i) for i in optimizer.upfreq_range],\n",
      "                    [float(i) for i in optimizer.lowfreq_range]]\n",
      "\n",
      "print axes_range\n",
      "[round(i, 3) for i in axes_range[3]]\n",
      "result = optimizer._result_to_array()\n",
      "wax = [round(i, 3) for i in axes_range[0]]\n",
      "zax = [round(i, 3) for i in axes_range[1]]\n",
      "xax = [round(i, 3) for i in axes_range[3]]\n",
      "yax = [round(i, 3) for i in axes_range[2]]\n",
      "sort_result = sorted([(result[i, j, k, l], wax[i], zax[j], xax[l], yax[k])\n",
      "                              for i in range(len(wax))\n",
      "                              for j in range(len(zax))\n",
      "                              for k in range(len(yax))\n",
      "                              for l in range(len(xax))\n",
      "                              if not np.isnan(result[i, j, k, l])\n",
      "                              ], key=lambda x: x[0],\n",
      "                             reverse=True)[0]\n",
      "print sort_result"
     ],
     "language": "python",
     "metadata": {},
     "outputs": [
      {
       "output_type": "stream",
       "stream": "stdout",
       "text": [
        "[[0.005], [2000.0, 2500.0, 3000.0, 3500.0, 4000.0], [0.2, 0.4, 0.6, 0.8], [-1.0, -0.8, -0.6, -0.4, -0.2, 0.0]]\n",
        "(0.75936709524864121, 0.005, 2000.0, -0.2, 0.2)\n"
       ]
      }
     ],
     "prompt_number": 11
    },
    {
     "cell_type": "raw",
     "metadata": {},
     "source": [
      "One can also visualize the parameter optimization according to ne of the three optimization parameters."
     ]
    },
    {
     "cell_type": "code",
     "collapsed": false,
     "input": [
      "# Visualize the results of the optimization based on the lowfreq parameter.\n",
      "optimizer.plot_2d(axes=('upfreq', 'lowfreq', 'maxdist', 'scale'),show_best=10)\n"
     ],
     "language": "python",
     "metadata": {},
     "outputs": [
      {
       "metadata": {},
       "output_type": "display_data",
       "png": "[encoded data removed]",
       "text": [
        "<matplotlib.figure.Figure at 0x7f12edddb8d0>"
       ]
      }
     ],
     "prompt_number": 12
    },
    {
     "cell_type": "code",
     "collapsed": false,
     "input": [
      "optimizer.plot_2d(skip={\"scale\":0.01}, show_best=10)\n"
     ],
     "language": "python",
     "metadata": {},
     "outputs": [
      {
       "ename": "ValueError",
       "evalue": "0.01 is not in list",
       "output_type": "pyerr",
       "traceback": [
        "\u001b[1;31m---------------------------------------------------------------------------\u001b[0m\n\u001b[1;31mValueError\u001b[0m                                Traceback (most recent call last)",
        "\u001b[1;32m<ipython-input-13-4c8c4f4e635a>\u001b[0m in \u001b[0;36m<module>\u001b[1;34m()\u001b[0m\n\u001b[1;32m----> 1\u001b[1;33m \u001b[0moptimizer\u001b[0m\u001b[1;33m.\u001b[0m\u001b[0mplot_2d\u001b[0m\u001b[1;33m(\u001b[0m\u001b[0mskip\u001b[0m\u001b[1;33m=\u001b[0m\u001b[1;33m{\u001b[0m\u001b[1;34m\"scale\"\u001b[0m\u001b[1;33m:\u001b[0m\u001b[1;36m0.01\u001b[0m\u001b[1;33m}\u001b[0m\u001b[1;33m,\u001b[0m \u001b[0mshow_best\u001b[0m\u001b[1;33m=\u001b[0m\u001b[1;36m10\u001b[0m\u001b[1;33m)\u001b[0m\u001b[1;33m\u001b[0m\u001b[0m\n\u001b[0m",
        "\u001b[1;32m/usr/local/lib/python2.7/dist-packages/pytadbit/imp/impoptimizer.pyc\u001b[0m in \u001b[0;36mplot_2d\u001b[1;34m(self, axes, show_best, skip, savefig)\u001b[0m\n\u001b[0;32m    308\u001b[0m                                       [float(i) for i in self.lowfreq_range]),\n\u001b[0;32m    309\u001b[0m                                      results), axes=axes, show_best=show_best,\n\u001b[1;32m--> 310\u001b[1;33m                                     skip=skip, savefig=savefig)\n\u001b[0m\u001b[0;32m    311\u001b[0m \u001b[1;33m\u001b[0m\u001b[0m\n\u001b[0;32m    312\u001b[0m \u001b[1;33m\u001b[0m\u001b[0m\n",
        "\u001b[1;32m/usr/local/lib/python2.7/dist-packages/pytadbit/utils/extraviews.pyc\u001b[0m in \u001b[0;36mplot_2d_optimization_result\u001b[1;34m(result, axes, show_best, skip, savefig)\u001b[0m\n\u001b[0;32m    602\u001b[0m             \u001b[1;32mcontinue\u001b[0m\u001b[1;33m\u001b[0m\u001b[0m\n\u001b[0;32m    603\u001b[0m         \u001b[1;32mif\u001b[0m \u001b[0mi\u001b[0m \u001b[1;33m==\u001b[0m \u001b[1;36m0\u001b[0m\u001b[1;33m:\u001b[0m\u001b[1;33m\u001b[0m\u001b[0m\n\u001b[1;32m--> 604\u001b[1;33m             \u001b[0mwax_range\u001b[0m \u001b[1;33m=\u001b[0m \u001b[1;33m[\u001b[0m\u001b[0mwax\u001b[0m\u001b[1;33m.\u001b[0m\u001b[0mindex\u001b[0m\u001b[1;33m(\u001b[0m\u001b[0mskip\u001b[0m\u001b[1;33m[\u001b[0m\u001b[0mk\u001b[0m\u001b[1;33m]\u001b[0m\u001b[1;33m)\u001b[0m\u001b[1;33m]\u001b[0m\u001b[1;33m\u001b[0m\u001b[0m\n\u001b[0m\u001b[0;32m    605\u001b[0m         \u001b[1;32melif\u001b[0m \u001b[0mi\u001b[0m\u001b[1;33m==\u001b[0m\u001b[1;36m1\u001b[0m\u001b[1;33m:\u001b[0m\u001b[1;33m\u001b[0m\u001b[0m\n\u001b[0;32m    606\u001b[0m             \u001b[0mzax_range\u001b[0m \u001b[1;33m=\u001b[0m \u001b[1;33m[\u001b[0m\u001b[0mzax\u001b[0m\u001b[1;33m.\u001b[0m\u001b[0mindex\u001b[0m\u001b[1;33m(\u001b[0m\u001b[0mskip\u001b[0m\u001b[1;33m[\u001b[0m\u001b[0mk\u001b[0m\u001b[1;33m]\u001b[0m\u001b[1;33m)\u001b[0m\u001b[1;33m]\u001b[0m\u001b[1;33m\u001b[0m\u001b[0m\n",
        "\u001b[1;31mValueError\u001b[0m: 0.01 is not in list"
       ]
      }
     ],
     "prompt_number": 13
    },
    {
     "cell_type": "raw",
     "metadata": {},
     "source": [
      "TADbit also provides the possibility to view it all together in a 3D plot (note that, while here its a static image, inside matplotlib GUI you would be able to turn around and zoom):"
     ]
    },
    {
     "cell_type": "code",
     "collapsed": false,
     "input": [
      "# Visualize the results of the optimization using a 3D representation with the three optimization parameters in the axis.\n",
      "optimizer.plot_3d(axes=('scale', 'maxdist', 'upfreq', 'lowfreq'))\n"
     ],
     "language": "python",
     "metadata": {},
     "outputs": []
    },
    {
     "cell_type": "code",
     "collapsed": false,
     "input": [
      "optimizer.run_grid_search(n_cpus=8, lowfreq_range=(-1., -0.0, 0.1), upfreq_range=(0.3, 0.6, 0.05), \n",
      "                          scale_range=[0.01], maxdist_range=[2250,2500,2750,3000], verbose=False)\n"
     ],
     "language": "python",
     "metadata": {},
     "outputs": []
    },
    {
     "cell_type": "code",
     "collapsed": false,
     "input": [
      "optimizer.plot_2d()"
     ],
     "language": "python",
     "metadata": {},
     "outputs": []
    },
    {
     "cell_type": "code",
     "collapsed": false,
     "input": [
      "optimizer.plot_2d(show_best=100)"
     ],
     "language": "python",
     "metadata": {},
     "outputs": []
    },
    {
     "cell_type": "code",
     "collapsed": false,
     "input": [
      "optimizer.write_result('results.log')"
     ],
     "language": "python",
     "metadata": {},
     "outputs": []
    },
    {
     "cell_type": "code",
     "collapsed": false,
     "input": [
      "optimizer2 = IMPoptimizer(exp, 100, 200, n_models=50, n_keep=25, cutoff=1000)"
     ],
     "language": "python",
     "metadata": {},
     "outputs": []
    },
    {
     "cell_type": "code",
     "collapsed": false,
     "input": [
      "optimizer2.load_from_file('results.log')"
     ],
     "language": "python",
     "metadata": {},
     "outputs": []
    },
    {
     "cell_type": "code",
     "collapsed": false,
     "input": [
      "optimizer2.results.keys()[105]"
     ],
     "language": "python",
     "metadata": {},
     "outputs": []
    },
    {
     "cell_type": "code",
     "collapsed": false,
     "input": [
      "optimizer2.plot_2d(show_best=20)"
     ],
     "language": "python",
     "metadata": {},
     "outputs": []
    },
    {
     "cell_type": "heading",
     "level": 2,
     "metadata": {},
     "source": [
      "Retrieve best parameters"
     ]
    },
    {
     "cell_type": "raw",
     "metadata": {},
     "source": [
      "Once done, best results can be returned as a dictionary to be used for modeling (see next section of the tutorial)"
     ]
    },
    {
     "cell_type": "code",
     "collapsed": false,
     "input": [
      "config = optimizer.get_best_parameters_dict(reference='gm cell from Job Dekker 2009')\n",
      "\n",
      "print config\n"
     ],
     "language": "python",
     "metadata": {},
     "outputs": []
    },
    {
     "cell_type": "code",
     "collapsed": false,
     "input": [],
     "language": "python",
     "metadata": {},
     "outputs": []
    }
   ],
   "metadata": {}
  }
 ]
}