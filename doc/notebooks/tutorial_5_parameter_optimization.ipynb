{
 "metadata": {
  "name": ""
 },
 "nbformat": 3,
 "nbformat_minor": 0,
 "worksheets": [
  {
   "cells": [
    {
     "cell_type": "heading",
     "level": 1,
     "metadata": {},
     "source": [
      "Parameter optimization for IMP."
     ]
    },
    {
     "cell_type": "raw",
     "metadata": {},
     "source": [
      "*Recover data from previous section by loading the previously saved chromosome and its Hi-C data.*"
     ]
    },
    {
     "cell_type": "raw",
     "metadata": {},
     "source": [
      "Import the necessary libraries."
     ]
    },
    {
     "cell_type": "code",
     "collapsed": false,
     "input": [
      "# Libraries\n",
      "from pytadbit import load_chromosome # to load chromosomes\n",
      "from pytadbit.imp.impoptimizer import IMPoptimizer\n"
     ],
     "language": "python",
     "metadata": {},
     "outputs": [],
     "prompt_number": 1
    },
    {
     "cell_type": "raw",
     "metadata": {},
     "source": [
      "First, load the chromosome from previous tutorial (:ref:`run_tadbit`)."
     ]
    },
    {
     "cell_type": "code",
     "collapsed": false,
     "input": [
      "# Load the chromosome\n",
      "my_chrom = load_chromosome('some_path.tdb')\n"
     ],
     "language": "python",
     "metadata": {},
     "outputs": [],
     "prompt_number": 2
    },
    {
     "cell_type": "raw",
     "metadata": {},
     "source": [
      "Next, load Hi-C data for each experiment (Hi-C data is not saved inside chromosome objects because of their size):"
     ]
    },
    {
     "cell_type": "code",
     "collapsed": false,
     "input": [
      "# Loop over experiments in chromosome and load Hi-C data.\n",
      "res = 100000\n",
      "\n",
      "for exp in my_chrom.experiments:\n",
      "    try:\n",
      "        exp.load_hic_data('../../scripts/sample_data/HIC_{0}_{1}_{1}_{2}_obs.txt'.format(\n",
      "                          exp.name, my_chrom.name, res))\n",
      "    except IOError:\n",
      "        print 'file not found for experiment: ' + exp.name\n",
      "        continue\n",
      "    print exp\n"
     ],
     "language": "python",
     "metadata": {},
     "outputs": [
      {
       "output_type": "stream",
       "stream": "stderr",
       "text": [
        "/usr/local/lib/python2.7/dist-packages/pytadbit/parsers/hic_parser.py:89: UserWarning: WARNING: non integer values\n",
        "  warn('WARNING: non integer values')\n",
        "\n",
        "WARNING: removing columns having less than 24.165 counts: (detected threshold)\n",
        "    8    9   10   12  245  246  247  248  249  250  251  252  253  254  255\n",
        "  256  257  258  259  260  261  262  263  264  265  266  267  268  269  270\n",
        "  271  272  273  274  275  276  277  278  279  280  281  282  283  284  285\n",
        "  286  287  288  289  290  291  292  293  294  295  296  297  298  299  300\n",
        "  301  302  303  304  305  306  307  308  309  310  311  312  313  314  315\n",
        "  316  317  318  319  320  321  322  323  324  639\n"
       ]
      },
      {
       "output_type": "stream",
       "stream": "stdout",
       "text": [
        "Experiment k562:\n",
        "   resolution        : 100Kb\n",
        "   TADs              : 37\n",
        "   Hi-C rows         : 639\n",
        "   normalized        : None\n",
        "   identifier        : k562\n",
        "   cell type         : wild type\n",
        "   restriction enzyme: UNKNOWN\n",
        "   project           : TADbit tutorial\n",
        "\n",
        "Experiment gm06690:\n",
        "   resolution        : 100Kb\n",
        "   TADs              : 34\n",
        "   Hi-C rows         : 639\n",
        "   normalized        : None\n",
        "   identifier        : gm06690\n",
        "   cell type         : cancer\n",
        "   restriction enzyme: UNKNOWN\n",
        "   project           : TADbit tutorial\n"
       ]
      },
      {
       "output_type": "stream",
       "stream": "stdout",
       "text": [
        "\n",
        "file not found for experiment: k562+gm06690\n",
        "file not found for experiment: batch_gm06690_k562\n"
       ]
      },
      {
       "output_type": "stream",
       "stream": "stderr",
       "text": [
        "/usr/local/lib/python2.7/dist-packages/pytadbit/utils/hic_filtering.py:209: ComplexWarning: Casting complex values to real discards the imaginary part\n",
        "  round(root, 3), ' '.join(\n",
        "\n",
        "WARNING: removing columns having less than 67.485 counts: (detected threshold)\n",
        "  246  247  248  249  250  251  252  253  254  255  256  257  258  259  260\n",
        "  261  262  263  264  265  266  267  268  269  270  271  272  273  274  275\n",
        "  276  277  278  279  280  281  282  283  284  285  286  287  288  289  290\n",
        "  291  292  293  294  295  296  297  298  299  300  301  302  303  304  305\n",
        "  306  307  308  309  310  311  312  313  314  315  316  317  318  319  320\n",
        "  321  322  323  324  639\n"
       ]
      }
     ],
     "prompt_number": 3
    },
    {
     "cell_type": "raw",
     "metadata": {},
     "source": [
      "The log indicates that experiment \"k562+gm06690\" had no file. Such experiment was built ad-hoc in our previous tutorial and needs to be created again by summing the Hi-C matrices from the individual experiments."
     ]
    },
    {
     "cell_type": "code",
     "collapsed": false,
     "input": [
      "# Load Hi-C of the individual experiments and put it into the sum experiment BR+TR1+TR2\n",
      "my_chrom.experiments['k562+gm06690'].load_hic_data(\n",
      "              (my_chrom.experiments['k562'] + my_chrom.experiments['gm06690']).hic_data, \n",
      "              'k562+gm06690')\n",
      "exp = my_chrom.experiments['gm06690']\n",
      "\n",
      "print my_chrom.experiments\n"
     ],
     "language": "python",
     "metadata": {},
     "outputs": [
      {
       "output_type": "stream",
       "stream": "stderr",
       "text": [
        "\n",
        "WARNING: removing columns having less than 73.545 counts: (detected threshold)\n",
        "  246  247  248  249  250  251  252  253  254  255  256  257  258  259  260\n",
        "  261  262  263  264  265  266  267  268  269  270  271  272  273  274  275\n",
        "  276  277  278  279  280  281  282  283  284  285  286  287  288  289  290\n",
        "  291  292  293  294  295  296  297  298  299  300  301  302  303  304  305\n",
        "  306  307  308  309  310  311  312  313  314  315  316  317  318  319  320\n",
        "  321  322  323  324  639\n",
        "/usr/local/lib/python2.7/dist-packages/pytadbit/experiment.py:176: UserWarning: WARNING: experiments should be normalized before being summed\n",
        "\n",
        "  'summed\\n')\n",
        "\n",
        "WARNING: removing columns having less than 73.545 counts: (detected threshold)\n",
        "  246  247  248  249  250  251  252  253  254  255  256  257  258  259  260\n",
        "  261  262  263  264  265  266  267  268  269  270  271  272  273  274  275\n",
        "  276  277  278  279  280  281  282  283  284  285  286  287  288  289  290\n",
        "  291  292  293  294  295  296  297  298  299  300  301  302  303  304  305\n",
        "  306  307  308  309  310  311  312  313  314  315  316  317  318  319  320\n",
        "  321  322  323  324  639\n"
       ]
      },
      {
       "output_type": "stream",
       "stream": "stdout",
       "text": [
        "[Experiment k562 (resolution: 100Kb, TADs: 37, Hi-C rows: 639, normalized: None), Experiment gm06690 (resolution: 100Kb, TADs: 34, Hi-C rows: 639, normalized: None), Experiment k562+gm06690 (resolution: 100Kb, TADs: None, Hi-C rows: 639, normalized: None), Experiment batch_gm06690_k562 (resolution: 100Kb, TADs: 35, Hi-C rows: 639, normalized: None)]\n"
       ]
      }
     ],
     "prompt_number": 4
    },
    {
     "cell_type": "heading",
     "level": 2,
     "metadata": {},
     "source": [
      "Optimization of IMP 3D modeling parameters"
     ]
    },
    {
     "cell_type": "raw",
     "metadata": {},
     "source": [
      "In the previous tutorial we found a specific TAD (region 406 to 448) that seemed quite conserved accross different cell types.\n",
      "\n",
      "Next, we will optimize the three IMP parameters for this TAD. The IMP parameters to optimize are maximal distance between two non-interacting particles (maxdist), Upper-bound Z-score (upfreq) and Lower-bound Z-score (lowfreq). For details see Bau & Marti-Renom. METHODS [Ba\u00f92012]_."
     ]
    },
    {
     "cell_type": "code",
     "collapsed": false,
     "input": [
      "optimizer = IMPoptimizer(exp, 100, 200, n_models=50, n_keep=25, cutoff=2000)"
     ],
     "language": "python",
     "metadata": {},
     "outputs": [
      {
       "output_type": "stream",
       "stream": "stderr",
       "text": [
        "/usr/local/lib/python2.7/dist-packages/pytadbit/experiment.py:630: UserWarning: WARNING: normalizing according to visibility method\n",
        "  warn('WARNING: normalizing according to visibility method')\n"
       ]
      }
     ],
     "prompt_number": 5
    },
    {
     "cell_type": "raw",
     "metadata": {},
     "source": [
      "``cutoff`` value corresponds to the distance limit, in nanometers, to consider if two particles of a model are interacting or not. A wise choice corresponds to two time the resolution times the scale factor (0.01), which in this case is :math:`cutoff = 100Kb \\times 2 \\times scale = 100000 \\times 2 \\times 0.01 = 2000`\n",
      "\n",
      "*Note: Usually the number of models to generate and to keep, should be respectively 500 and 100.*"
     ]
    },
    {
     "cell_type": "code",
     "collapsed": false,
     "input": [
      "# Optimize parameters. Be aware that this step is CPU intensive. If you want to se the progress, set verbose=True.\n",
      "optimizer.run_grid_search(n_cpus=8, lowfreq_range=(-1, 0, 0.2), upfreq_range=(0.2, 0.8, 0.2), \n",
      "                          maxdist_range=(2000, 4000, 500), verbose=True)\n"
     ],
     "language": "python",
     "metadata": {},
     "outputs": [],
     "prompt_number": "*"
    },
    {
     "cell_type": "raw",
     "metadata": {},
     "source": [
      ".. note::\n",
      "   The above warning is given when a small matrix is loaded. TADbit has a filtering function that is applied to all Hi-C matrices with the aim of removing entire rows with very low counts. Those rows/colums are treated then for modeling as \"missing-data\" points. This flitering function can only be applied for relatively large matrices.\n",
      "\n",
      ".. note::\n",
      "   By default TADbit does not store the models generated during the optimization, however, in case they are needed, the option savedata may allow to store them.\n"
     ]
    },
    {
     "cell_type": "heading",
     "level": 3,
     "metadata": {},
     "source": [
      "Optimizing from Experiment"
     ]
    },
    {
     "cell_type": "raw",
     "metadata": {},
     "source": [
      "The exact same as above can be done from Experiment objects directly:"
     ]
    },
    {
     "cell_type": "code",
     "collapsed": false,
     "input": [
      "optimizer = exp.optimal_imp_parameters(100, 200, n_cpus=8, n_models=50, n_keep=25, cutoff=1000,\n",
      "                                       lowfreq_range=(-1, 0, 0.2), upfreq_range=(0.2, 0.8, 0.2), \n",
      "                                       scale_range=[0.005], maxdist_range=(500, 900, 200), verbose=False)\n"
     ],
     "language": "python",
     "metadata": {},
     "outputs": [
      {
       "ename": "Exception",
       "evalue": "ERROR: we must prevent you from doing this for the safe of our universe...\nIn this case, maxdist must be higher than 500.0\n   -> resolution times scale -- 100000*0.005)",
       "output_type": "pyerr",
       "traceback": [
        "\u001b[1;31m---------------------------------------------------------------------------\u001b[0m\n\u001b[1;31mException\u001b[0m                                 Traceback (most recent call last)",
        "\u001b[1;32m<ipython-input-7-531db7bca5d2>\u001b[0m in \u001b[0;36m<module>\u001b[1;34m()\u001b[0m\n\u001b[0;32m      1\u001b[0m optimizer = exp.optimal_imp_parameters(100, 200, n_cpus=8, n_models=50, n_keep=25, cutoff=1000,\n\u001b[0;32m      2\u001b[0m                                        \u001b[0mlowfreq_range\u001b[0m\u001b[1;33m=\u001b[0m\u001b[1;33m(\u001b[0m\u001b[1;33m-\u001b[0m\u001b[1;36m1\u001b[0m\u001b[1;33m,\u001b[0m \u001b[1;36m0\u001b[0m\u001b[1;33m,\u001b[0m \u001b[1;36m0.2\u001b[0m\u001b[1;33m)\u001b[0m\u001b[1;33m,\u001b[0m \u001b[0mupfreq_range\u001b[0m\u001b[1;33m=\u001b[0m\u001b[1;33m(\u001b[0m\u001b[1;36m0.2\u001b[0m\u001b[1;33m,\u001b[0m \u001b[1;36m0.8\u001b[0m\u001b[1;33m,\u001b[0m \u001b[1;36m0.2\u001b[0m\u001b[1;33m)\u001b[0m\u001b[1;33m,\u001b[0m\u001b[1;33m\u001b[0m\u001b[0m\n\u001b[1;32m----> 3\u001b[1;33m                                        scale_range=[0.005], maxdist_range=(300, 700, 200), verbose=False)\n\u001b[0m",
        "\u001b[1;32m/usr/local/lib/python2.7/dist-packages/pytadbit/experiment.pyc\u001b[0m in \u001b[0;36moptimal_imp_parameters\u001b[1;34m(self, start, end, n_models, n_keep, n_cpus, upfreq_range, close_bins, lowfreq_range, scale_range, maxdist_range, cutoff, outfile, verbose, corr, off_diag, savedata)\u001b[0m\n\u001b[0;32m    608\u001b[0m                                   \u001b[0mscale_range\u001b[0m\u001b[1;33m=\u001b[0m\u001b[0mscale_range\u001b[0m\u001b[1;33m,\u001b[0m \u001b[0mcorr\u001b[0m\u001b[1;33m=\u001b[0m\u001b[0mcorr\u001b[0m\u001b[1;33m,\u001b[0m\u001b[1;33m\u001b[0m\u001b[0m\n\u001b[0;32m    609\u001b[0m                                   \u001b[0mn_cpus\u001b[0m\u001b[1;33m=\u001b[0m\u001b[0mn_cpus\u001b[0m\u001b[1;33m,\u001b[0m \u001b[0mverbose\u001b[0m\u001b[1;33m=\u001b[0m\u001b[0mverbose\u001b[0m\u001b[1;33m,\u001b[0m\u001b[1;33m\u001b[0m\u001b[0m\n\u001b[1;32m--> 610\u001b[1;33m                                   off_diag=off_diag, savedata=savedata)\n\u001b[0m\u001b[0;32m    611\u001b[0m \u001b[1;33m\u001b[0m\u001b[0m\n\u001b[0;32m    612\u001b[0m         \u001b[1;32mif\u001b[0m \u001b[0moutfile\u001b[0m\u001b[1;33m:\u001b[0m\u001b[1;33m\u001b[0m\u001b[0m\n",
        "\u001b[1;32m/usr/local/lib/python2.7/dist-packages/pytadbit/imp/impoptimizer.pyc\u001b[0m in \u001b[0;36mrun_grid_search\u001b[1;34m(self, upfreq_range, lowfreq_range, maxdist_range, scale_range, corr, off_diag, savedata, n_cpus, verbose)\u001b[0m\n\u001b[0;32m    169\u001b[0m                                                  \u001b[0mn_cpus\u001b[0m\u001b[1;33m=\u001b[0m\u001b[0mn_cpus\u001b[0m\u001b[1;33m,\u001b[0m\u001b[1;33m\u001b[0m\u001b[0m\n\u001b[0;32m    170\u001b[0m                                                  \u001b[0mvalues\u001b[0m\u001b[1;33m=\u001b[0m\u001b[0mself\u001b[0m\u001b[1;33m.\u001b[0m\u001b[0mvalues\u001b[0m\u001b[1;33m,\u001b[0m\u001b[1;33m\u001b[0m\u001b[0m\n\u001b[1;32m--> 171\u001b[1;33m                                                  close_bins=self.close_bins)\n\u001b[0m\u001b[0;32m    172\u001b[0m                         \u001b[0mcount\u001b[0m \u001b[1;33m+=\u001b[0m \u001b[1;36m1\u001b[0m\u001b[1;33m\u001b[0m\u001b[0m\n\u001b[0;32m    173\u001b[0m                         \u001b[1;32mif\u001b[0m \u001b[0mverbose\u001b[0m\u001b[1;33m:\u001b[0m\u001b[1;33m\u001b[0m\u001b[0m\n",
        "\u001b[1;32m/usr/local/lib/python2.7/dist-packages/pytadbit/imp/imp_modelling.pyc\u001b[0m in \u001b[0;36mgenerate_3d_models\u001b[1;34m(zscores, resolution, nloci, start, n_models, n_keep, close_bins, n_cpus, keep_all, verbose, outfile, config, values, experiment, coords)\u001b[0m\n\u001b[0;32m    127\u001b[0m                             CONFIG['lowrdist']) +\n\u001b[0;32m    128\u001b[0m                         '   -> resolution times scale -- %s*%s)' % (\n\u001b[1;32m--> 129\u001b[1;33m                             resolution, CONFIG['scale']))\n\u001b[0m\u001b[0;32m    130\u001b[0m \u001b[1;33m\u001b[0m\u001b[0m\n\u001b[0;32m    131\u001b[0m     \u001b[1;31m# get SLOPE and regression for all particles of the z-score data\u001b[0m\u001b[1;33m\u001b[0m\u001b[1;33m\u001b[0m\u001b[0m\n",
        "\u001b[1;31mException\u001b[0m: ERROR: we must prevent you from doing this for the safe of our universe...\nIn this case, maxdist must be higher than 500.0\n   -> resolution times scale -- 100000*0.005)"
       ]
      }
     ],
     "prompt_number": 7
    },
    {
     "cell_type": "heading",
     "level": 2,
     "metadata": {},
     "source": [
      "Visualize the results"
     ]
    },
    {
     "cell_type": "code",
     "collapsed": false,
     "input": [
      "optimizer.write_result('results.log')"
     ],
     "language": "python",
     "metadata": {},
     "outputs": [],
     "prompt_number": 8
    },
    {
     "cell_type": "code",
     "collapsed": false,
     "input": [
      "# Visualize the results of the optimization.\n",
      "optimizer.plot_2d()\n"
     ],
     "language": "python",
     "metadata": {},
     "outputs": [
      {
       "ename": "IndexError",
       "evalue": "list index out of range",
       "output_type": "pyerr",
       "traceback": [
        "\u001b[1;31m---------------------------------------------------------------------------\u001b[0m\n\u001b[1;31mIndexError\u001b[0m                                Traceback (most recent call last)",
        "\u001b[1;32m<ipython-input-9-13a57a482708>\u001b[0m in \u001b[0;36m<module>\u001b[1;34m()\u001b[0m\n\u001b[0;32m      1\u001b[0m \u001b[1;31m# Visualize the results of the optimization.\u001b[0m\u001b[1;33m\u001b[0m\u001b[1;33m\u001b[0m\u001b[0m\n\u001b[1;32m----> 2\u001b[1;33m \u001b[0moptimizer\u001b[0m\u001b[1;33m.\u001b[0m\u001b[0mplot_2d\u001b[0m\u001b[1;33m(\u001b[0m\u001b[1;33m)\u001b[0m\u001b[1;33m\u001b[0m\u001b[0m\n\u001b[0m",
        "\u001b[1;32m/usr/local/lib/python2.7/dist-packages/pytadbit/imp/impoptimizer.pyc\u001b[0m in \u001b[0;36mplot_2d\u001b[1;34m(self, axes, show_best, skip, savefig)\u001b[0m\n\u001b[0;32m    306\u001b[0m                                       [float(i) for i in self.lowfreq_range]),\n\u001b[0;32m    307\u001b[0m                                      results), axes=axes, show_best=show_best,\n\u001b[1;32m--> 308\u001b[1;33m                                     skip=skip, savefig=savefig)\n\u001b[0m\u001b[0;32m    309\u001b[0m \u001b[1;33m\u001b[0m\u001b[0m\n\u001b[0;32m    310\u001b[0m \u001b[1;33m\u001b[0m\u001b[0m\n",
        "\u001b[1;32m/usr/local/lib/python2.7/dist-packages/pytadbit/utils/extraviews.pyc\u001b[0m in \u001b[0;36mplot_2d_optimization_result\u001b[1;34m(result, axes, show_best, skip, savefig)\u001b[0m\n\u001b[0;32m    673\u001b[0m     tit += 'Best: %s=%%s, %s=%%s, %s=%%s, %s=%%s' % (axes[0], axes[1],\n\u001b[0;32m    674\u001b[0m                                                      axes[3], axes[2])\n\u001b[1;32m--> 675\u001b[1;33m     fig.suptitle(tit % tuple([my_round(i, 3) for i in sort_result[0][1:]]),\n\u001b[0m\u001b[0;32m    676\u001b[0m                  size='large')\n\u001b[0;32m    677\u001b[0m     \u001b[1;32mif\u001b[0m \u001b[0msavefig\u001b[0m\u001b[1;33m:\u001b[0m\u001b[1;33m\u001b[0m\u001b[0m\n",
        "\u001b[1;31mIndexError\u001b[0m: list index out of range"
       ]
      },
      {
       "output_type": "stream",
       "stream": "stderr",
       "text": [
        "/usr/lib/python2.7/dist-packages/numpy/ma/core.py:3847: UserWarning: Warning: converting a masked element to nan.\n",
        "  warnings.warn(\"Warning: converting a masked element to nan.\")\n",
        "/usr/lib/pymodules/python2.7/matplotlib/colors.py:576: RuntimeWarning: invalid value encountered in less\n",
        "  cbook._putmask(xa, xa < 0.0, -1)\n"
       ]
      },
      {
       "metadata": {},
       "output_type": "display_data",
       "png": "[encoded data removed]",
       "text": [
        "<matplotlib.figure.Figure at 0x7f72bd8f9510>"
       ]
      }
     ],
     "prompt_number": 9
    },
    {
     "cell_type": "raw",
     "metadata": {},
     "source": [
      "We can also ask to mark on the plot the best N combination of parameters with the \"show_best\" parameter."
     ]
    },
    {
     "cell_type": "code",
     "collapsed": false,
     "input": [
      "# Visualize the results of the optimization and mark the best 10 parameter sets\n",
      "optimizer.plot_2d(show_best=20)\n"
     ],
     "language": "python",
     "metadata": {},
     "outputs": []
    },
    {
     "cell_type": "code",
     "collapsed": false,
     "input": [
      "axes_range = [[float(i) for i in optimizer.scale_range],\n",
      "                    [float(i) for i in optimizer.maxdist_range],\n",
      "                    [float(i) for i in optimizer.upfreq_range],\n",
      "                    [float(i) for i in optimizer.lowfreq_range]]\n",
      "\n",
      "print axes_range\n",
      "[round(i, 3) for i in axes_range[3]]\n",
      "result = optimizer._result_to_array()\n",
      "wax = [round(i, 3) for i in axes_range[0]]\n",
      "zax = [round(i, 3) for i in axes_range[1]]\n",
      "xax = [round(i, 3) for i in axes_range[3]]\n",
      "yax = [round(i, 3) for i in axes_range[2]]\n",
      "sort_result = sorted([(result[i, j, k, l], wax[i], zax[j], xax[l], yax[k])\n",
      "                              for i in range(len(wax))\n",
      "                              for j in range(len(zax))\n",
      "                              for k in range(len(yax))\n",
      "                              for l in range(len(xax))\n",
      "                              if not np.isnan(result[i, j, k, l])\n",
      "                              ], key=lambda x: x[0],\n",
      "                             reverse=True)[0]\n",
      "print sort_result"
     ],
     "language": "python",
     "metadata": {},
     "outputs": []
    },
    {
     "cell_type": "raw",
     "metadata": {},
     "source": [
      "One can also visualize the parameter optimization according to ne of the three optimization parameters."
     ]
    },
    {
     "cell_type": "code",
     "collapsed": false,
     "input": [
      "# Visualize the results of the optimization based on the lowfreq parameter.\n",
      "optimizer.plot_2d(axes=('upfreq', 'lowfreq', 'maxdist', 'scale'),show_best=10)\n"
     ],
     "language": "python",
     "metadata": {},
     "outputs": []
    },
    {
     "cell_type": "code",
     "collapsed": false,
     "input": [
      "optimizer.plot_2d(skip={\"scale\":0.005}, show_best=10)\n"
     ],
     "language": "python",
     "metadata": {},
     "outputs": []
    },
    {
     "cell_type": "raw",
     "metadata": {},
     "source": [
      "TADbit also provides the possibility to view it all together in a 3D plot (note that, while here its a static image, inside matplotlib GUI you would be able to turn around and zoom):"
     ]
    },
    {
     "cell_type": "code",
     "collapsed": false,
     "input": [
      "# Visualize the results of the optimization using a 3D representation with the three optimization parameters in the axis.\n",
      "optimizer.plot_3d(axes=('scale', 'maxdist', 'upfreq', 'lowfreq'))\n"
     ],
     "language": "python",
     "metadata": {},
     "outputs": []
    },
    {
     "cell_type": "code",
     "collapsed": false,
     "input": [
      "optimizer.run_grid_search(n_cpus=8, lowfreq_range=(-1., -0.0, 0.1), upfreq_range=(0.3, 0.6, 0.05), \n",
      "                          scale_range=[0.005], maxdist_range=[200,250,300,350], verbose=False)\n"
     ],
     "language": "python",
     "metadata": {},
     "outputs": []
    },
    {
     "cell_type": "code",
     "collapsed": false,
     "input": [
      "optimizer.scale_range\n",
      "optimizer.maxdist_range\n"
     ],
     "language": "python",
     "metadata": {},
     "outputs": []
    },
    {
     "cell_type": "code",
     "collapsed": false,
     "input": [
      "optimizer.plot_2d(show_best=100)"
     ],
     "language": "python",
     "metadata": {},
     "outputs": [
      {
       "ename": "IndexError",
       "evalue": "list index out of range",
       "output_type": "pyerr",
       "traceback": [
        "\u001b[1;31m---------------------------------------------------------------------------\u001b[0m\n\u001b[1;31mIndexError\u001b[0m                                Traceback (most recent call last)",
        "\u001b[1;32m<ipython-input-15-9667fef4f0da>\u001b[0m in \u001b[0;36m<module>\u001b[1;34m()\u001b[0m\n\u001b[1;32m----> 1\u001b[1;33m \u001b[0moptimizer\u001b[0m\u001b[1;33m.\u001b[0m\u001b[0mplot_2d\u001b[0m\u001b[1;33m(\u001b[0m\u001b[0mshow_best\u001b[0m\u001b[1;33m=\u001b[0m\u001b[1;36m100\u001b[0m\u001b[1;33m)\u001b[0m\u001b[1;33m\u001b[0m\u001b[0m\n\u001b[0m",
        "\u001b[1;32m/usr/local/lib/python2.7/dist-packages/pytadbit/imp/impoptimizer.pyc\u001b[0m in \u001b[0;36mplot_2d\u001b[1;34m(self, axes, show_best, skip, savefig)\u001b[0m\n\u001b[0;32m    306\u001b[0m                                       [float(i) for i in self.lowfreq_range]),\n\u001b[0;32m    307\u001b[0m                                      results), axes=axes, show_best=show_best,\n\u001b[1;32m--> 308\u001b[1;33m                                     skip=skip, savefig=savefig)\n\u001b[0m\u001b[0;32m    309\u001b[0m \u001b[1;33m\u001b[0m\u001b[0m\n\u001b[0;32m    310\u001b[0m \u001b[1;33m\u001b[0m\u001b[0m\n",
        "\u001b[1;32m/usr/local/lib/python2.7/dist-packages/pytadbit/utils/extraviews.pyc\u001b[0m in \u001b[0;36mplot_2d_optimization_result\u001b[1;34m(result, axes, show_best, skip, savefig)\u001b[0m\n\u001b[0;32m    673\u001b[0m     tit += 'Best: %s=%%s, %s=%%s, %s=%%s, %s=%%s' % (axes[0], axes[1],\n\u001b[0;32m    674\u001b[0m                                                      axes[3], axes[2])\n\u001b[1;32m--> 675\u001b[1;33m     fig.suptitle(tit % tuple([my_round(i, 3) for i in sort_result[0][1:]]),\n\u001b[0m\u001b[0;32m    676\u001b[0m                  size='large')\n\u001b[0;32m    677\u001b[0m     \u001b[1;32mif\u001b[0m \u001b[0msavefig\u001b[0m\u001b[1;33m:\u001b[0m\u001b[1;33m\u001b[0m\u001b[0m\n",
        "\u001b[1;31mIndexError\u001b[0m: list index out of range"
       ]
      },
      {
       "metadata": {},
       "output_type": "display_data",
       "png": "[encoded data removed]",
       "text": [
        "<matplotlib.figure.Figure at 0x7f72bced4f10>"
       ]
      }
     ],
     "prompt_number": 15
    },
    {
     "cell_type": "code",
     "collapsed": false,
     "input": [
      "optimizer.write_result('results.log')"
     ],
     "language": "python",
     "metadata": {},
     "outputs": [],
     "prompt_number": 10
    },
    {
     "cell_type": "code",
     "collapsed": false,
     "input": [
      "optimizer2 = IMPoptimizer(exp, 100, 200, n_models=50, n_keep=25, cutoff=1000)"
     ],
     "language": "python",
     "metadata": {},
     "outputs": [],
     "prompt_number": 11
    },
    {
     "cell_type": "code",
     "collapsed": false,
     "input": [
      "optimizer2.load_from_file('results.log')"
     ],
     "language": "python",
     "metadata": {},
     "outputs": [],
     "prompt_number": 12
    },
    {
     "cell_type": "code",
     "collapsed": false,
     "input": [
      "optimizer2.results.keys()[105]"
     ],
     "language": "python",
     "metadata": {},
     "outputs": [
      {
       "ename": "IndexError",
       "evalue": "list index out of range",
       "output_type": "pyerr",
       "traceback": [
        "\u001b[1;31m---------------------------------------------------------------------------\u001b[0m\n\u001b[1;31mIndexError\u001b[0m                                Traceback (most recent call last)",
        "\u001b[1;32m<ipython-input-13-fd8fa669d7d1>\u001b[0m in \u001b[0;36m<module>\u001b[1;34m()\u001b[0m\n\u001b[1;32m----> 1\u001b[1;33m \u001b[0moptimizer2\u001b[0m\u001b[1;33m.\u001b[0m\u001b[0mresults\u001b[0m\u001b[1;33m.\u001b[0m\u001b[0mkeys\u001b[0m\u001b[1;33m(\u001b[0m\u001b[1;33m)\u001b[0m\u001b[1;33m[\u001b[0m\u001b[1;36m105\u001b[0m\u001b[1;33m]\u001b[0m\u001b[1;33m\u001b[0m\u001b[0m\n\u001b[0m",
        "\u001b[1;31mIndexError\u001b[0m: list index out of range"
       ]
      }
     ],
     "prompt_number": 13
    },
    {
     "cell_type": "code",
     "collapsed": false,
     "input": [
      "optimizer2.plot_2d(show_best=20)"
     ],
     "language": "python",
     "metadata": {},
     "outputs": []
    },
    {
     "cell_type": "heading",
     "level": 2,
     "metadata": {},
     "source": [
      "Retrieve best parameters"
     ]
    },
    {
     "cell_type": "raw",
     "metadata": {},
     "source": [
      "Once done, best results can be returned as a dictionary to be used for modeling (see next section of the tutorial)"
     ]
    },
    {
     "cell_type": "code",
     "collapsed": false,
     "input": [
      "config = optimizer.get_best_parameters_dict(reference='gm cell from Job Dekker 2009')\n",
      "\n",
      "print config\n"
     ],
     "language": "python",
     "metadata": {},
     "outputs": [
      {
       "output_type": "stream",
       "stream": "stdout",
       "text": [
        "None\n"
       ]
      },
      {
       "output_type": "stream",
       "stream": "stderr",
       "text": [
        "/usr/local/lib/python2.7/dist-packages/pytadbit/imp/impoptimizer.py:263: UserWarning: WARNING: no optimization done yet\n",
        "  warn('WARNING: no optimization done yet')\n"
       ]
      }
     ],
     "prompt_number": 14
    },
    {
     "cell_type": "code",
     "collapsed": false,
     "input": [],
     "language": "python",
     "metadata": {},
     "outputs": []
    }
   ],
   "metadata": {}
  }
 ]
}