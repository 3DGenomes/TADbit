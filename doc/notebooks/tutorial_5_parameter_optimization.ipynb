{
 "metadata": {
  "name": ""
 },
 "nbformat": 3,
 "nbformat_minor": 0,
 "worksheets": [
  {
   "cells": [
    {
     "cell_type": "heading",
     "level": 1,
     "metadata": {},
     "source": [
      "Parameter optimization for IMP."
     ]
    },
    {
     "cell_type": "raw",
     "metadata": {},
     "source": [
      "*Recover data from previous section by loading the previously saved chromosome and its Hi-C data.*"
     ]
    },
    {
     "cell_type": "raw",
     "metadata": {},
     "source": [
      "Import the necessary libraries."
     ]
    },
    {
     "cell_type": "code",
     "collapsed": false,
     "input": [
      "# Libraries\n",
      "from pytadbit import load_chromosome # to load chromosomes\n",
      "from pytadbit.imp.impoptimizer import IMPoptimizer\n"
     ],
     "language": "python",
     "metadata": {},
     "outputs": [],
     "prompt_number": 1
    },
    {
     "cell_type": "raw",
     "metadata": {},
     "source": [
      "First, load the chromosome from previous tutorial (:ref:`run_tadbit`)."
     ]
    },
    {
     "cell_type": "code",
     "collapsed": false,
     "input": [
      "# Load the chromosome\n",
      "my_chrom = load_chromosome('some_path.tdb')\n"
     ],
     "language": "python",
     "metadata": {},
     "outputs": [],
     "prompt_number": 2
    },
    {
     "cell_type": "raw",
     "metadata": {},
     "source": [
      "Next, load Hi-C data for each experiment (Hi-C data is not saved inside chromosome objects because of their size):"
     ]
    },
    {
     "cell_type": "code",
     "collapsed": false,
     "input": [
      "# Loop over experiments in chromosome and load Hi-C data.\n",
      "res = 100000\n",
      "\n",
      "for exp in my_chrom.experiments:\n",
      "    try:\n",
      "        exp.load_hic_data('../../scripts/sample_data/HIC_{0}_{1}_{1}_{2}_obs.txt'.format(\n",
      "                          exp.name, my_chrom.name, res))\n",
      "    except IOError:\n",
      "        print 'file not found for experiment: ' + exp.name\n",
      "        continue\n",
      "    print exp\n"
     ],
     "language": "python",
     "metadata": {},
     "outputs": [
      {
       "output_type": "stream",
       "stream": "stderr",
       "text": [
        "/usr/local/lib/python2.7/dist-packages/pytadbit/parsers/hic_parser.py:93: UserWarning: WARNING: non integer values\n",
        "  warn('WARNING: non integer values')\n",
        "\n",
        "WARNING: removing columns having less than 24.165 counts: (detected threshold)\n",
        "    8    9   10   12  245  246  247  248  249  250  251  252  253  254  255\n",
        "  256  257  258  259  260  261  262  263  264  265  266  267  268  269  270\n",
        "  271  272  273  274  275  276  277  278  279  280  281  282  283  284  285\n",
        "  286  287  288  289  290  291  292  293  294  295  296  297  298  299  300\n",
        "  301  302  303  304  305  306  307  308  309  310  311  312  313  314  315\n",
        "  316  317  318  319  320  321  322  323  324  639\n"
       ]
      },
      {
       "output_type": "stream",
       "stream": "stdout",
       "text": [
        "Experiment k562:\n",
        "   resolution        : 100Kb\n",
        "   TADs              : 37\n",
        "   Hi-C rows         : 639\n",
        "   normalized        : None\n",
        "   identifier        : k562\n",
        "   cell type         : wild type\n",
        "   restriction enzyme: UNKNOWN\n",
        "   project           : TADbit tutorial\n",
        "\n",
        "Experiment gm06690:\n",
        "   resolution        : 100Kb\n",
        "   TADs              : 34\n",
        "   Hi-C rows         : 639\n",
        "   normalized        : None\n",
        "   identifier        : gm06690\n",
        "   cell type         : cancer\n",
        "   restriction enzyme: UNKNOWN\n",
        "   project           : TADbit tutorial\n"
       ]
      },
      {
       "output_type": "stream",
       "stream": "stdout",
       "text": [
        "\n",
        "file not found for experiment: k562+gm06690\n",
        "file not found for experiment: batch_gm06690_k562\n"
       ]
      },
      {
       "output_type": "stream",
       "stream": "stderr",
       "text": [
        "/usr/local/lib/python2.7/dist-packages/pytadbit/utils/hic_filtering.py:209: ComplexWarning: Casting complex values to real discards the imaginary part\n",
        "  round(root, 3), ' '.join(\n",
        "\n",
        "WARNING: removing columns having less than 67.485 counts: (detected threshold)\n",
        "  246  247  248  249  250  251  252  253  254  255  256  257  258  259  260\n",
        "  261  262  263  264  265  266  267  268  269  270  271  272  273  274  275\n",
        "  276  277  278  279  280  281  282  283  284  285  286  287  288  289  290\n",
        "  291  292  293  294  295  296  297  298  299  300  301  302  303  304  305\n",
        "  306  307  308  309  310  311  312  313  314  315  316  317  318  319  320\n",
        "  321  322  323  324  639\n"
       ]
      }
     ],
     "prompt_number": 3
    },
    {
     "cell_type": "raw",
     "metadata": {},
     "source": [
      "The log indicates that experiment \"k562+gm06690\" had no file. Such experiment was built ad-hoc in our previous tutorial and needs to be created again by summing the Hi-C matrices from the individual experiments."
     ]
    },
    {
     "cell_type": "code",
     "collapsed": false,
     "input": [
      "# Load Hi-C of the individual experiments and put it into the sum experiment BR+TR1+TR2\n",
      "my_chrom.experiments['k562+gm06690'].load_hic_data(\n",
      "              (my_chrom.experiments['k562'] + my_chrom.experiments['gm06690']).hic_data, \n",
      "              'k562+gm06690')\n",
      "exp = my_chrom.experiments['gm06690']\n",
      "\n",
      "print my_chrom.experiments\n"
     ],
     "language": "python",
     "metadata": {},
     "outputs": [
      {
       "output_type": "stream",
       "stream": "stderr",
       "text": [
        "\n",
        "WARNING: removing columns having less than 73.545 counts: (detected threshold)\n",
        "  246  247  248  249  250  251  252  253  254  255  256  257  258  259  260\n",
        "  261  262  263  264  265  266  267  268  269  270  271  272  273  274  275\n",
        "  276  277  278  279  280  281  282  283  284  285  286  287  288  289  290\n",
        "  291  292  293  294  295  296  297  298  299  300  301  302  303  304  305\n",
        "  306  307  308  309  310  311  312  313  314  315  316  317  318  319  320\n",
        "  321  322  323  324  639\n",
        "/usr/local/lib/python2.7/dist-packages/pytadbit/experiment.py:202: UserWarning: WARNING: experiments should be normalized before being summed\n",
        "\n",
        "  'summed\\n')\n",
        "\n",
        "WARNING: removing columns having less than 73.545 counts: (detected threshold)\n",
        "  246  247  248  249  250  251  252  253  254  255  256  257  258  259  260\n",
        "  261  262  263  264  265  266  267  268  269  270  271  272  273  274  275\n",
        "  276  277  278  279  280  281  282  283  284  285  286  287  288  289  290\n",
        "  291  292  293  294  295  296  297  298  299  300  301  302  303  304  305\n",
        "  306  307  308  309  310  311  312  313  314  315  316  317  318  319  320\n",
        "  321  322  323  324  639\n"
       ]
      },
      {
       "output_type": "stream",
       "stream": "stdout",
       "text": [
        "[Experiment k562 (resolution: 100Kb, TADs: 37, Hi-C rows: 639, normalized: None), Experiment gm06690 (resolution: 100Kb, TADs: 34, Hi-C rows: 639, normalized: None), Experiment k562+gm06690 (resolution: 100Kb, TADs: None, Hi-C rows: 639, normalized: None), Experiment batch_gm06690_k562 (resolution: 100Kb, TADs: 35, Hi-C rows: 639, normalized: None)]\n"
       ]
      }
     ],
     "prompt_number": 4
    },
    {
     "cell_type": "heading",
     "level": 2,
     "metadata": {},
     "source": [
      "Optimization of IMP 3D modeling parameters"
     ]
    },
    {
     "cell_type": "raw",
     "metadata": {},
     "source": [
      "In the previous tutorial we found a specific TAD (region 406 to 448) that seemed quite conserved accross different cell types.\n",
      "\n",
      "Next, we will optimize the three IMP parameters for this TAD. The IMP parameters to optimize are maximal distance between two non-interacting particles (maxdist), Upper-bound Z-score (upfreq) and Lower-bound Z-score (lowfreq). For details see Bau & Marti-Renom. METHODS [Ba\u00f92012]_."
     ]
    },
    {
     "cell_type": "code",
     "collapsed": false,
     "input": [
      "optimizer = IMPoptimizer(exp, 100, 200, n_models=50, n_keep=25, cutoff=2000)"
     ],
     "language": "python",
     "metadata": {},
     "outputs": [
      {
       "output_type": "stream",
       "stream": "stderr",
       "text": [
        "/usr/local/lib/python2.7/dist-packages/pytadbit/experiment.py:700: UserWarning: WARNING: normalizing according to visibility method\n",
        "  warn('WARNING: normalizing according to visibility method')\n"
       ]
      }
     ],
     "prompt_number": "*"
    },
    {
     "cell_type": "raw",
     "metadata": {},
     "source": [
      "``cutoff`` value corresponds to the distance limit, in nanometers, to consider if two particles of a model are interacting or not. A wise choice corresponds to two time the resolution times the scale factor (0.01), which in this case is :math:`cutoff = 100Kb \\times 2 \\times scale = 100000 \\times 2 \\times 0.01 = 2000`\n",
      "\n",
      "*Note: Usually the number of models to generate and to keep, should be respectively 500 and 100.*"
     ]
    },
    {
     "cell_type": "code",
     "collapsed": false,
     "input": [
      "# Optimize parameters. Be aware that this step is CPU intensive. If you want to se the progress, set verbose=True.\n",
      "optimizer.run_grid_search(n_cpus=8, lowfreq_range=(-1, 0, 0.2), upfreq_range=(0.2, 0.8, 0.2), \n",
      "                          maxdist_range=(2000, 4000, 500), verbose=True)\n"
     ],
     "language": "python",
     "metadata": {},
     "outputs": [],
     "prompt_number": "*"
    },
    {
     "cell_type": "raw",
     "metadata": {},
     "source": [
      ".. note::\n",
      "   The above warning is given when a small matrix is loaded. TADbit has a filtering function that is applied to all Hi-C matrices with the aim of removing entire rows with very low counts. Those rows/colums are treated then for modeling as \"missing-data\" points. This flitering function can only be applied for relatively large matrices.\n",
      "\n",
      ".. note::\n",
      "   By default TADbit does not store the models generated during the optimization, however, in case they are needed, the option savedata may allow to store them.\n"
     ]
    },
    {
     "cell_type": "heading",
     "level": 3,
     "metadata": {},
     "source": [
      "Optimizing from Experiment"
     ]
    },
    {
     "cell_type": "raw",
     "metadata": {},
     "source": [
      "The exact same as above can be done from Experiment objects directly:"
     ]
    },
    {
     "cell_type": "code",
     "collapsed": false,
     "input": [
      "optimizer = exp.optimal_imp_parameters(100, 200, n_cpus=8, n_models=50, n_keep=25, cutoff=1000,\n",
      "                                       lowfreq_range=(-1, 0, 0.2), upfreq_range=(0.2, 0.8, 0.2), \n",
      "                                       maxdist_range=(2000, 4000, 500), \n",
      "                                       verbose=False)\n"
     ],
     "language": "python",
     "metadata": {},
     "outputs": [],
     "prompt_number": "*"
    },
    {
     "cell_type": "heading",
     "level": 2,
     "metadata": {},
     "source": [
      "Visualize the results"
     ]
    },
    {
     "cell_type": "code",
     "collapsed": false,
     "input": [
      "optimizer.write_result('results.log')"
     ],
     "language": "python",
     "metadata": {},
     "outputs": [],
     "prompt_number": "*"
    },
    {
     "cell_type": "code",
     "collapsed": false,
     "input": [
      "# Visualize the results of the optimization.\n",
      "optimizer.plot_2d()\n"
     ],
     "language": "python",
     "metadata": {},
     "outputs": [],
     "prompt_number": "*"
    },
    {
     "cell_type": "raw",
     "metadata": {},
     "source": [
      "We can also ask to mark on the plot the best N combination of parameters with the \"show_best\" parameter."
     ]
    },
    {
     "cell_type": "code",
     "collapsed": false,
     "input": [
      "# Visualize the results of the optimization and mark the best 10 parameter sets\n",
      "optimizer.plot_2d(show_best=20)\n"
     ],
     "language": "python",
     "metadata": {},
     "outputs": [],
     "prompt_number": "*"
    },
    {
     "cell_type": "code",
     "collapsed": false,
     "input": [
      "axes_range = [[float(i) for i in optimizer.scale_range],\n",
      "                    [float(i) for i in optimizer.maxdist_range],\n",
      "                    [float(i) for i in optimizer.upfreq_range],\n",
      "                    [float(i) for i in optimizer.lowfreq_range]]\n",
      "\n",
      "print axes_range\n",
      "[round(i, 3) for i in axes_range[3]]\n",
      "result = optimizer._result_to_array()\n",
      "wax = [round(i, 3) for i in axes_range[0]]\n",
      "zax = [round(i, 3) for i in axes_range[1]]\n",
      "xax = [round(i, 3) for i in axes_range[3]]\n",
      "yax = [round(i, 3) for i in axes_range[2]]\n",
      "sort_result = sorted([(result[i, j, k, l], wax[i], zax[j], xax[l], yax[k])\n",
      "                              for i in range(len(wax))\n",
      "                              for j in range(len(zax))\n",
      "                              for k in range(len(yax))\n",
      "                              for l in range(len(xax))\n",
      "                              if not np.isnan(result[i, j, k, l])\n",
      "                              ], key=lambda x: x[0],\n",
      "                             reverse=True)[0]\n",
      "print sort_result"
     ],
     "language": "python",
     "metadata": {},
     "outputs": [],
     "prompt_number": "*"
    },
    {
     "cell_type": "raw",
     "metadata": {},
     "source": [
      "One can also visualize the parameter optimization according to ne of the three optimization parameters."
     ]
    },
    {
     "cell_type": "code",
     "collapsed": false,
     "input": [
      "# Visualize the results of the optimization based on the lowfreq parameter.\n",
      "optimizer.plot_2d(axes=('upfreq', 'lowfreq', 'maxdist', 'scale'),show_best=10)\n"
     ],
     "language": "python",
     "metadata": {},
     "outputs": [],
     "prompt_number": "*"
    },
    {
     "cell_type": "code",
     "collapsed": false,
     "input": [
      "optimizer.plot_2d(skip={\"scale\":0.01}, show_best=10)\n"
     ],
     "language": "python",
     "metadata": {},
     "outputs": [],
     "prompt_number": "*"
    },
    {
     "cell_type": "raw",
     "metadata": {},
     "source": [
      "TADbit also provides the possibility to view it all together in a 3D plot (note that, while here its a static image, inside matplotlib GUI you would be able to turn around and zoom):"
     ]
    },
    {
     "cell_type": "code",
     "collapsed": false,
     "input": [
      "# Visualize the results of the optimization using a 3D representation with the three optimization parameters in the axis.\n",
      "optimizer.plot_3d(axes=('scale', 'maxdist', 'upfreq', 'lowfreq'))\n"
     ],
     "language": "python",
     "metadata": {},
     "outputs": [],
     "prompt_number": "*"
    },
    {
     "cell_type": "code",
     "collapsed": false,
     "input": [
      "optimizer.run_grid_search(n_cpus=8, lowfreq_range=(-1., -0.0, 0.1), upfreq_range=(0.3, 0.6, 0.05), \n",
      "                          scale_range=[0.01], maxdist_range=[2250,2500,2750,3000], verbose=False)\n"
     ],
     "language": "python",
     "metadata": {},
     "outputs": [],
     "prompt_number": "*"
    },
    {
     "cell_type": "code",
     "collapsed": false,
     "input": [
      "optimizer.plot_2d()"
     ],
     "language": "python",
     "metadata": {},
     "outputs": [],
     "prompt_number": "*"
    },
    {
     "cell_type": "code",
     "collapsed": false,
     "input": [
      "optimizer.plot_2d(show_best=100)"
     ],
     "language": "python",
     "metadata": {},
     "outputs": [],
     "prompt_number": "*"
    },
    {
     "cell_type": "code",
     "collapsed": false,
     "input": [
      "optimizer.write_result('results.log')"
     ],
     "language": "python",
     "metadata": {},
     "outputs": [],
     "prompt_number": "*"
    },
    {
     "cell_type": "code",
     "collapsed": false,
     "input": [
      "optimizer2 = IMPoptimizer(exp, 100, 200, n_models=50, n_keep=25, cutoff=1000)"
     ],
     "language": "python",
     "metadata": {},
     "outputs": [],
     "prompt_number": "*"
    },
    {
     "cell_type": "code",
     "collapsed": false,
     "input": [
      "optimizer2.load_from_file('results.log')"
     ],
     "language": "python",
     "metadata": {},
     "outputs": [],
     "prompt_number": "*"
    },
    {
     "cell_type": "code",
     "collapsed": false,
     "input": [
      "optimizer2.results.keys()[105]"
     ],
     "language": "python",
     "metadata": {},
     "outputs": [],
     "prompt_number": "*"
    },
    {
     "cell_type": "code",
     "collapsed": false,
     "input": [
      "optimizer2.plot_2d(show_best=20)"
     ],
     "language": "python",
     "metadata": {},
     "outputs": [],
     "prompt_number": "*"
    },
    {
     "cell_type": "heading",
     "level": 2,
     "metadata": {},
     "source": [
      "Retrieve best parameters"
     ]
    },
    {
     "cell_type": "raw",
     "metadata": {},
     "source": [
      "Once done, best results can be returned as a dictionary to be used for modeling (see next section of the tutorial)"
     ]
    },
    {
     "cell_type": "code",
     "collapsed": false,
     "input": [
      "config = optimizer.get_best_parameters_dict(reference='gm cell from Job Dekker 2009')\n",
      "\n",
      "print config\n"
     ],
     "language": "python",
     "metadata": {},
     "outputs": [],
     "prompt_number": "*"
    },
    {
     "cell_type": "code",
     "collapsed": false,
     "input": [],
     "language": "python",
     "metadata": {},
     "outputs": [],
     "prompt_number": "*"
    }
   ],
   "metadata": {}
  }
 ]
}