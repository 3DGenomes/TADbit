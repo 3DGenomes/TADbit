{
 "metadata": {
  "name": ""
 },
 "nbformat": 3,
 "nbformat_minor": 0,
 "worksheets": [
  {
   "cells": [
    {
     "cell_type": "heading",
     "level": 1,
     "metadata": {},
     "source": [
      "Tutorials"
     ]
    },
    {
     "cell_type": "heading",
     "level": 2,
     "metadata": {},
     "source": [
      "Identification and Analysis of TADs"
     ]
    },
    {
     "cell_type": "raw",
     "metadata": {},
     "source": [
      ".. toctree::\n",
      "   :maxdepth: 2\n",
      "   \n",
      "   tutorial/tutorial_1_general\n",
      "   tutorial/tutorial_2_boundary_alignment\n",
      "   tutorial/tutorial_3_clustering\n"
     ]
    },
    {
     "cell_type": "heading",
     "level": 2,
     "metadata": {},
     "source": [
      "Three-dimentional modelling"
     ]
    },
    {
     "cell_type": "raw",
     "metadata": {},
     "source": [
      ".. toctree::\n",
      "   :maxdepth: 2\n",
      "\n",
      "   tutorial/tutorial_4_data_normalization\n",
      "   tutorial/tutorial_5_parameter_optimization\n",
      "   tutorial/tutorial_6_modelling_and_analysis\n"
     ]
    }
   ],
   "metadata": {}
  }
 ]
}