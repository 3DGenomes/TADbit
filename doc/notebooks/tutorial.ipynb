{
 "cells": [
  {
   "cell_type": "markdown",
   "metadata": {},
   "source": [
    "# Tutorials"
   ]
  },
  {
   "cell_type": "markdown",
   "metadata": {},
   "source": [
    "## From FASTQ files to interaction matrices"
   ]
  },
  {
   "cell_type": "raw",
   "metadata": {},
   "source": [
    ".. toctree::\n",
    "   :maxdepth: 2\n",
    "   \n",
    "   tutorial/tutorial_0_mapping\n"
   ]
  },
  {
   "cell_type": "markdown",
   "metadata": {},
   "source": [
    "## Identification and Analysis of TADs"
   ]
  },
  {
   "cell_type": "raw",
   "metadata": {},
   "source": [
    ".. toctree::\n",
    "   :maxdepth: 2\n",
    "   \n",
    "   tutorial/tutorial_1_general\n",
    "   tutorial/tutorial_2_boundary_alignment\n",
    "   tutorial/tutorial_3_clustering\n"
   ]
  },
  {
   "cell_type": "markdown",
   "metadata": {},
   "source": [
    "## Three-dimentional modelling"
   ]
  },
  {
   "cell_type": "raw",
   "metadata": {},
   "source": [
    ".. toctree::\n",
    "   :maxdepth: 2\n",
    "\n",
    "   tutorial/tutorial_4_data_normalization\n",
    "   tutorial/tutorial_5_parameter_optimization\n",
    "   tutorial/tutorial_6_modelling_and_analysis\n",
    "   tutorial/tutorial_7_single_model_analysis"
   ]
  }
 ],
 "metadata": {
  "kernelspec": {
   "display_name": "Python 2",
   "language": "python",
   "name": "python2"
  },
  "language_info": {
   "codemirror_mode": {
    "name": "ipython",
    "version": 2
   },
   "file_extension": ".py",
   "mimetype": "text/x-python",
   "name": "python",
   "nbconvert_exporter": "python",
   "pygments_lexer": "ipython2",
   "version": "2.7.11"
  }
 },
 "nbformat": 4,
 "nbformat_minor": 0
}
