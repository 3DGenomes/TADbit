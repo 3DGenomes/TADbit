{
 "cells": [
  {
   "cell_type": "markdown",
   "metadata": {},
   "source": [
    "# Tutorials"
   ]
  },
  {
   "cell_type": "markdown",
   "metadata": {},
   "source": [
    "## From FASTQ files to interaction matrices"
   ]
  },
  {
   "cell_type": "raw",
   "metadata": {},
   "source": [
    ".. toctree::\n",
    "   :maxdepth: 1\n",
    "   \n",
    "   tutorial/tutorial_1-Retrieve_published_HiC_datasets\n",
    "   tutorial/tutorial_2-Preparation_of_the_reference_genome\n",
    "   tutorial/tutorial_3-Hi-C_quality_check\n",
    "   tutorial/tutorial_4-Mapping\n",
    "   tutorial/tutorial_5-Parsing_mapped_reads\n",
    "   tutorial/tutorial_6-Filtering_mapped_reads\n",
    "   tutorial/tutorial_7-Bin_filtering_and_normalization\n"
   ]
  },
  {
   "cell_type": "markdown",
   "metadata": {},
   "source": [
    "## Identification and Analysis of TADs and Compartments"
   ]
  },
  {
   "cell_type": "raw",
   "metadata": {},
   "source": [
    ".. toctree::\n",
    "   :maxdepth: 2\n",
    "   \n",
    "   tutorial/tutorial_8-Compartments_and_TADs_detection\n",
    "   tutorial/tutorial_9-Compare_and_merge_Hi-C_experiments\n"
   ]
  },
  {
   "cell_type": "markdown",
   "metadata": {},
   "source": [
    "## Three-dimentional modelling"
   ]
  },
  {
   "cell_type": "raw",
   "metadata": {},
   "source": [
    ".. toctree::\n",
    "   :maxdepth: 2\n",
    "\n",
    "   tutorial/tutorial_10-Modeling_parameters_optimization\n",
    "   tutorial/tutorial_11-3D_Models_production_and_analysis"
   ]
  }
 ],
 "metadata": {
  "kernelspec": {
   "display_name": "Python 2",
   "language": "python",
   "name": "python2"
  },
  "language_info": {
   "codemirror_mode": {
    "name": "ipython",
    "version": 2
   },
   "file_extension": ".py",
   "mimetype": "text/x-python",
   "name": "python",
   "nbconvert_exporter": "python",
   "pygments_lexer": "ipython2",
   "version": "2.7.15"
  }
 },
 "nbformat": 4,
 "nbformat_minor": 1
}
