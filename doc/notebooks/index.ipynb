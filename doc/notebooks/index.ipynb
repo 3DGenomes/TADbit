{
 "metadata": {
  "name": ""
 },
 "nbformat": 3,
 "nbformat_minor": 0,
 "worksheets": [
  {
   "cells": [
    {
     "cell_type": "raw",
     "metadata": {},
     "source": [
      ".. Tadbit documentation master file, created by\n",
      "   sphinx-quickstart on Tue Jan 15 18:23:49 2013.\n",
      "   You can adapt this file completely to your liking, but it should at least\n",
      "   contain the root `toctree` directive.\n",
      "\n",
      "\n"
     ]
    },
    {
     "cell_type": "heading",
     "level": 1,
     "metadata": {},
     "source": [
      "Welcome to TADbit's documentation!\n"
     ]
    },
    {
     "cell_type": "raw",
     "metadata": {},
     "source": [
      "\n",
      "TADbit is a computational package that deals with 3C-based data (more specifically Hi-C data) to detect Topologically A\n",
      "ssociating Domain (TAD) borders and to further analyze TADs by: i) the identification of conserved TAD borders and ii) \n",
      "the definition of sets of TADs sharing structural features iii) the three-dimensional modeling of the chromatin.\n",
      "\n",
      "Hi-C experiments generate genomic interaction data that is usually summarized at the chromosome level. TADbit is built \n",
      "around the concept of chromosome, and uses it as a central item to compare different Hi-C experiments. The library has \n",
      "been designed to be used by researchers with minimal level of expertise in computer science; the all-in-one scripts pro\n",
      "vided in TADbit allow to run a full analysis in one single command line, while advanced users may produce their own pro\n",
      "grams using TADbit as a complementary tool.\n"
     ]
    },
    {
     "cell_type": "heading",
     "level": 3,
     "metadata": {},
     "source": [
      "Documentation index:\n"
     ]
    },
    {
     "cell_type": "raw",
     "metadata": {},
     "source": [
      ".. epigraph::\n",
      "\n",
      "  .. toctree::\n",
      "     :maxdepth: 3\n",
      "  \n",
      "     install\n",
      "  \n",
      "     tutorial\n",
      "  \n",
      "     reference/index\n",
      "  \n",
      "     biblio\n"
     ]
    }
   ],
   "metadata": {}
  }
 ]
}