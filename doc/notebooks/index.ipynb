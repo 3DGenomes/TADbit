{
 "metadata": {
  "name": ""
 },
 "nbformat": 3,
 "nbformat_minor": 0,
 "worksheets": [
  {
   "cells": [
    {
     "cell_type": "raw",
     "metadata": {},
     "source": [
      ".. Tadbit documentation master file, created by\n",
      "   sphinx-quickstart on Tue Jan 15 18:23:49 2013.\n",
      "   You can adapt this file completely to your liking, but it should at least\n",
      "   contain the root `toctree` directive.\n",
      "\n",
      "\n"
     ]
    },
    {
     "cell_type": "heading",
     "level": 1,
     "metadata": {},
     "source": [
      "Welcome to TADBit's documentation!\n"
     ]
    },
    {
     "cell_type": "heading",
     "level": 2,
     "metadata": {},
     "source": [
      "Documentation index:\n"
     ]
    },
    {
     "cell_type": "raw",
     "metadata": {},
     "source": [
      ".. epigraph::\n",
      "\n",
      "  .. toctree::\n",
      "     :maxdepth: 3\n",
      "     \n",
      "     intro\n",
      "  \n",
      "     install\n",
      "  \n",
      "     tutorial\n",
      "  \n",
      "     reference/index\n",
      "  \n",
      "     biblio\n"
     ]
    }
   ],
   "metadata": {}
  }
 ]
}