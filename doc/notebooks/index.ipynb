{
 "cells": [
  {
   "cell_type": "raw",
   "metadata": {},
   "source": [
    ".. Tadbit documentation master file, created by\n",
    "   sphinx-quickstart on Tue Jan 15 18:23:49 2013.\n",
    "   You can adapt this file completely to your liking, but it should at least\n",
    "   contain the root `toctree` directive.\n",
    "\n",
    "\n"
   ]
  },
  {
   "cell_type": "markdown",
   "metadata": {},
   "source": [
    "# Welcome to TADbit's documentation!"
   ]
  },
  {
   "cell_type": "markdown",
   "metadata": {},
   "source": [
    "\n",
    "TADbit is a computational package that deals with 3C-based data (more specifically Hi-C data). It handles all the steps from the alignment of paired-end reads to the detection of Topologically Associating Domain (TAD) borders, compartments and three-dimensional modeling of chromatin based on interaction matrices. The different steps:\n",
    "\n",
    " - preprocessing of paired-end reads from Hi-C experiment\n",
    " - alignment of the reads using [GEM](http://algorithms.cnag.cat/wiki/The_GEM_library)\n",
    " - fitering of the mapped reads\n",
    " - construction of interaction matrices and normalization\n",
    " - the identification of TAD borders and compartments\n",
    " - the 1D and 2D comparison of TADs\n",
    " - the three-dimensional modeling of the chromatin\n",
    "\n",
    "The library has been designed to be used by researchers with minimal level of expertise in computer science. A set of the all-in-one scripts (called **TADbit tools**) allow to run a full analysis in one single command line. \n",
    "\n",
    "On the other hand, advanced users may produce their own scripts using the TADbit API.\n"
   ]
  },
  {
   "cell_type": "markdown",
   "metadata": {},
   "source": [
    "### Documentation index:"
   ]
  },
  {
   "cell_type": "raw",
   "metadata": {},
   "source": [
    ".. epigraph::\n",
    "\n",
    "  .. toctree::\n",
    "     :maxdepth: 3\n",
    "  \n",
    "     install\n",
    "  \n",
    "     tutorial\n",
    "     \n",
    "     tools\n",
    "  \n",
    "     reference/index\n",
    "  \n",
    "     biblio\n"
   ]
  }
 ],
 "metadata": {
  "kernelspec": {
   "display_name": "Python 2",
   "language": "python",
   "name": "python2"
  },
  "language_info": {
   "codemirror_mode": {
    "name": "ipython",
    "version": 2
   },
   "file_extension": ".py",
   "mimetype": "text/x-python",
   "name": "python",
   "nbconvert_exporter": "python",
   "pygments_lexer": "ipython2",
   "version": "2.7.11"
  }
 },
 "nbformat": 4,
 "nbformat_minor": 0
}
