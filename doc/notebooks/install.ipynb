{
 "cells": [
  {
   "cell_type": "markdown",
   "metadata": {},
   "source": [
    "# Installing TADbit on GNU/Linux"
   ]
  },
  {
   "cell_type": "markdown",
   "metadata": {},
   "source": [
    "**TADbit requires python2 >= 2.6 or python3 >= 3.6 as well as several dependencies that are listed below.**"
   ]
  },
  {
   "cell_type": "markdown",
   "metadata": {},
   "source": [
    "## Dependencies"
   ]
  },
  {
   "cell_type": "markdown",
   "metadata": {},
   "source": [
    "### Conda"
   ]
  },
  {
   "cell_type": "markdown",
   "metadata": {},
   "source": [
    "Conda (http://conda.pydata.org/docs/index.html) is a package manager, mainly hosting python programs, that is very useful when no root access is available and the softwares have complicated dependencies.\n",
    "\n",
    "To install it (__in case you don't already have it__) just download the installer from http://conda.pydata.org/miniconda.html"
   ]
  },
  {
   "cell_type": "code",
   "execution_count": 1,
   "metadata": {},
   "outputs": [
    {
     "name": "stderr",
     "output_type": "stream",
     "text": [
      "2018-09-28 00:39:07 URL:https://repo.continuum.io/miniconda/Miniconda2-latest-Linux-x86_64.sh [41787735/41787735] -> \"miniconda.sh\" [1]\n"
     ]
    }
   ],
   "source": [
    "%%bash\n",
    "\n",
    "wget -nv https://repo.continuum.io/miniconda/Miniconda2-latest-Linux-x86_64.sh -O miniconda.sh"
   ]
  },
  {
   "cell_type": "markdown",
   "metadata": {},
   "source": [
    "And run it with all the default options. The installer will create a `miniconda2` folder in your home directory where all the programs that you need will be stored (including python).\n",
    "\n",
    "Alternatively you can also use this oneliner:"
   ]
  },
  {
   "cell_type": "code",
   "execution_count": 2,
   "metadata": {
    "scrolled": false
   },
   "outputs": [
    {
     "name": "stdout",
     "output_type": "stream",
     "text": [
      "PREFIX=/home/fransua/miniconda2\n",
      "installing: python-2.7.15-h1571d57_0 ...\n",
      "installing: ca-certificates-2018.03.07-0 ...\n",
      "installing: conda-env-2.6.0-1 ...\n",
      "installing: libgcc-ng-8.2.0-hdf63c60_1 ...\n",
      "installing: libstdcxx-ng-8.2.0-hdf63c60_1 ...\n",
      "installing: libffi-3.2.1-hd88cf55_4 ...\n",
      "installing: ncurses-6.1-hf484d3e_0 ...\n",
      "installing: openssl-1.0.2p-h14c3975_0 ...\n",
      "installing: yaml-0.1.7-had09818_2 ...\n",
      "installing: zlib-1.2.11-ha838bed_2 ...\n",
      "installing: libedit-3.1.20170329-h6b74fdf_2 ...\n",
      "installing: readline-7.0-h7b6447c_5 ...\n",
      "installing: tk-8.6.8-hbc83047_0 ...\n",
      "installing: sqlite-3.24.0-h84994c4_0 ...\n",
      "installing: asn1crypto-0.24.0-py27_0 ...\n",
      "installing: certifi-2018.8.24-py27_1 ...\n",
      "installing: chardet-3.0.4-py27_1 ...\n",
      "installing: enum34-1.1.6-py27_1 ...\n",
      "installing: futures-3.2.0-py27_0 ...\n",
      "installing: idna-2.7-py27_0 ...\n",
      "installing: ipaddress-1.0.22-py27_0 ...\n",
      "installing: pycosat-0.6.3-py27h14c3975_0 ...\n",
      "installing: pycparser-2.18-py27_1 ...\n",
      "installing: pysocks-1.6.8-py27_0 ...\n",
      "installing: ruamel_yaml-0.15.46-py27h14c3975_0 ...\n",
      "installing: six-1.11.0-py27_1 ...\n",
      "installing: cffi-1.11.5-py27he75722e_1 ...\n",
      "installing: setuptools-40.2.0-py27_0 ...\n",
      "installing: cryptography-2.3.1-py27hc365091_0 ...\n",
      "installing: wheel-0.31.1-py27_0 ...\n",
      "installing: pip-10.0.1-py27_0 ...\n",
      "installing: pyopenssl-18.0.0-py27_0 ...\n",
      "installing: urllib3-1.23-py27_0 ...\n",
      "installing: requests-2.19.1-py27_0 ...\n",
      "installing: conda-4.5.11-py27_0 ...\n",
      "installation finished.\n"
     ]
    },
    {
     "name": "stderr",
     "output_type": "stream",
     "text": [
      "Python 2.7.15 :: Anaconda, Inc.\n"
     ]
    }
   ],
   "source": [
    "%%bash\n",
    "\n",
    "bash miniconda.sh -b -p $HOME/miniconda2"
   ]
  },
  {
   "cell_type": "markdown",
   "metadata": {},
   "source": [
    "###  Python libraries"
   ]
  },
  {
   "cell_type": "markdown",
   "metadata": {},
   "source": [
    "**Required:**\n",
    "\n",
    "```\n",
    "apt-get install python-scipy\n",
    "apt-get install python-numpy\n",
    "```\n",
    "\n",
    "Optional packages (but **highly** recommended):\n",
    "\n",
    "```\n",
    "apt-get install python-matplotlib\n",
    "```\n",
    ".. note:: **Alternative install**, you can install *python-setuptools* and use easy_install to get these packages (e.g. \"``easy_install scipy``\"). \n",
    "\n"
   ]
  },
  {
   "cell_type": "markdown",
   "metadata": {},
   "source": [
    "With conda you can install most of the needed dependencies:"
   ]
  },
  {
   "cell_type": "code",
   "execution_count": null,
   "metadata": {},
   "outputs": [],
   "source": [
    "%%bash\n",
    "\n",
    "## required\n",
    "conda config --add channels bioconda\n",
    "conda config --add channels conda-forge\n",
    "conda create -n tadbit -c conda-forge python=3.7\n",
    "conda activate tadbit\n",
    "conda install -y -q -c bioconda mcl\n",
    "conda install -y -q future\n",
    "conda install -y -q h5py\n",
    "conda install -y -q samtools==1.12\n",
    "conda install -y -q pysam\n",
    "conda install -y -q matplotlib-base\n",
    "conda install -y -q -c conda-forge scipy\n",
    "\n",
    "## optional\n",
    "conda install -y -q jupyter                                    # this notebook :)\n",
    "conda install -y -q -c bioconda sra-tools                      # to download raw data from released experiment"
   ]
  },
  {
   "cell_type": "markdown",
   "metadata": {},
   "source": [
    "### IMP - 3D modeling"
   ]
  },
  {
   "cell_type": "markdown",
   "metadata": {},
   "source": [
    "#### From the repositories"
   ]
  },
  {
   "cell_type": "markdown",
   "metadata": {},
   "source": [
    "Since version 2.5 IMP is available in several repositories, like Ubuntu\n",
    "``` \n",
    "sudo apt-get install imp\n",
    "```\n",
    "or in [anaconda](http://conda.pydata.org/docs/intro.html)\n",
    "```\n",
    "conda install -c https://conda.anaconda.org/salilab imp (python 2 packages)\n",
    "conda install -c conda-forge imp (python 3 packages)\n",
    "```\n",
    "\n",
    "These options may be easier than the source compilation."
   ]
  },
  {
   "cell_type": "markdown",
   "metadata": {},
   "source": [
    "#### From source"
   ]
  },
  {
   "cell_type": "markdown",
   "metadata": {},
   "source": [
    "Check https://integrativemodeling.org/download-linux.html"
   ]
  },
  {
   "cell_type": "markdown",
   "metadata": {},
   "source": [
    "### MCL - clustering"
   ]
  },
  {
   "cell_type": "markdown",
   "metadata": {},
   "source": [
    "MCL is the program used for clustering the 3D models generated by IMP. It can be downloaded from http://micans.org/mcl/; on Debian/Ubuntu machines it can be automatically installed with:\n",
    "```\n",
    "sudo apt-get install mcl\n",
    "```\n",
    "or in anaconda <http://conda.pydata.org/docs/intro.html>\n",
    "\n",
    "```\n",
    "conda install -y -q -c bioconda mcl\n",
    "```\n",
    "\n",
    "*Note: if the MCL executable is not found by TADbit, an alternative clustering method will be used. Nevertheless we strongly recommend to use MCL.*"
   ]
  },
  {
   "cell_type": "markdown",
   "metadata": {},
   "source": [
    "## GEM Mapper"
   ]
  },
  {
   "cell_type": "markdown",
   "metadata": {},
   "source": [
    "The default mapper in TADbit is GEM, but bowtie2 and hisat2 are also supported.\n",
    "\n",
    "GEM version 3, bowtie2 and hisat2 are available in bioconda."
   ]
  },
  {
   "cell_type": "code",
   "execution_count": null,
   "metadata": {},
   "outputs": [],
   "source": [
    "%%bash\n",
    "\n",
    "conda -y -q -c bioconda gem3-mapper\n",
    "conda -y -q -c bioconda bowtie2\n",
    "conda -y -q -c bioconda hisat2"
   ]
  },
  {
   "cell_type": "markdown",
   "metadata": {},
   "source": [
    "If you prefer the old good GEM version 2, go to the download page: https://sourceforge.net/projects/gemlibrary/files/gem-library/Binary%20pre-release%202/\n",
    "and download the `i3` version (the other version is for older computers, and you usually won't have to use it)."
   ]
  },
  {
   "cell_type": "code",
   "execution_count": 1,
   "metadata": {},
   "outputs": [
    {
     "name": "stderr",
     "output_type": "stream",
     "text": [
      "2019-01-15 14:12:09 URL:https://netcologne.dl.sourceforge.net/project/gemlibrary/gem-library/Binary%20pre-release%203/GEM-binaries-Linux-x86_64-core_i3-20130406-045632.tbz2 [33847526/33847526] -> \"GEM.tbz2\" [1]\n"
     ]
    }
   ],
   "source": [
    "%%bash\n",
    "\n",
    "wget -nv -O GEM.tbz2 https://sourceforge.net/projects/gemlibrary/files/gem-library/Binary%20pre-release%203/GEM-binaries-Linux-x86_64-core_i3-20130406-045632.tbz2/download"
   ]
  },
  {
   "cell_type": "markdown",
   "metadata": {},
   "source": [
    "Uncompress the archive: "
   ]
  },
  {
   "cell_type": "code",
   "execution_count": 2,
   "metadata": {},
   "outputs": [
    {
     "name": "stdout",
     "output_type": "stream",
     "text": [
      "GEM-binaries-Linux-x86_64-core_i3-20130406-045632/bin/\n",
      "GEM-binaries-Linux-x86_64-core_i3-20130406-045632/bin/gem-indexer_bwt-dna\n",
      "GEM-binaries-Linux-x86_64-core_i3-20130406-045632/bin/transcriptome-2-genome\n",
      "GEM-binaries-Linux-x86_64-core_i3-20130406-045632/bin/gem-mappability\n",
      "GEM-binaries-Linux-x86_64-core_i3-20130406-045632/bin/gem-indexer\n",
      "GEM-binaries-Linux-x86_64-core_i3-20130406-045632/bin/gem-indexer_generate\n",
      "GEM-binaries-Linux-x86_64-core_i3-20130406-045632/bin/gem-mappability-retriever\n",
      "GEM-binaries-Linux-x86_64-core_i3-20130406-045632/bin/External/\n",
      "GEM-binaries-Linux-x86_64-core_i3-20130406-045632/bin/External/gemtools\n",
      "GEM-binaries-Linux-x86_64-core_i3-20130406-045632/bin/External/LICENSE\n",
      "GEM-binaries-Linux-x86_64-core_i3-20130406-045632/bin/gemtools\n",
      "GEM-binaries-Linux-x86_64-core_i3-20130406-045632/bin/gem-rna-mapper\n",
      "GEM-binaries-Linux-x86_64-core_i3-20130406-045632/bin/gem-retriever\n",
      "GEM-binaries-Linux-x86_64-core_i3-20130406-045632/bin/gem-2-sam\n",
      "GEM-binaries-Linux-x86_64-core_i3-20130406-045632/bin/gem-indexer_fasta2meta+cont\n",
      "GEM-binaries-Linux-x86_64-core_i3-20130406-045632/bin/gtf-2-junctions\n",
      "GEM-binaries-Linux-x86_64-core_i3-20130406-045632/bin/gem-2-wig\n",
      "GEM-binaries-Linux-x86_64-core_i3-20130406-045632/bin/gem-2-gem\n",
      "GEM-binaries-Linux-x86_64-core_i3-20130406-045632/bin/gem-info\n",
      "GEM-binaries-Linux-x86_64-core_i3-20130406-045632/bin/compute-transcriptome\n",
      "GEM-binaries-Linux-x86_64-core_i3-20130406-045632/bin/LICENSE\n",
      "GEM-binaries-Linux-x86_64-core_i3-20130406-045632/bin/splits-2-junctions\n",
      "GEM-binaries-Linux-x86_64-core_i3-20130406-045632/bin/gem-mapper\n",
      "GEM-binaries-Linux-x86_64-core_i3-20130406-045632/man/\n",
      "GEM-binaries-Linux-x86_64-core_i3-20130406-045632/man/gem-indexer.man\n",
      "GEM-binaries-Linux-x86_64-core_i3-20130406-045632/man/gem-mapper.man\n",
      "GEM-binaries-Linux-x86_64-core_i3-20130406-045632/man/gem-2-sam.man\n",
      "GEM-binaries-Linux-x86_64-core_i3-20130406-045632/man/gem-2-gem.man\n",
      "GEM-binaries-Linux-x86_64-core_i3-20130406-045632/man/gem-mappability.man\n"
     ]
    }
   ],
   "source": [
    "%%bash\n",
    "\n",
    "tar -xjvf GEM.tbz2"
   ]
  },
  {
   "cell_type": "markdown",
   "metadata": {},
   "source": [
    "And copy the needed binaries to somewhere in your PATH, like:"
   ]
  },
  {
   "cell_type": "code",
   "execution_count": 4,
   "metadata": {},
   "outputs": [],
   "source": [
    "%%bash\n",
    "\n",
    "rm -f GEM-binaries-Linux-x86_64-core_i3-20130406-045632/bin/LICENCE"
   ]
  },
  {
   "cell_type": "code",
   "execution_count": 8,
   "metadata": {},
   "outputs": [],
   "source": [
    "%%bash\n",
    "\n",
    "cp GEM-binaries-Linux-x86_64-core_i3-20130406-045632/bin/* ~/miniconda2/bin/"
   ]
  },
  {
   "cell_type": "markdown",
   "metadata": {},
   "source": [
    "Cleanup"
   ]
  },
  {
   "cell_type": "code",
   "execution_count": 7,
   "metadata": {},
   "outputs": [],
   "source": [
    "%%bash\n",
    "\n",
    "rm -rf GEM-binaries-Linux-x86_64-core_i3-20121106-022124\n",
    "rm -f GEM.tbz2"
   ]
  },
  {
   "cell_type": "markdown",
   "metadata": {},
   "source": [
    "## DryHiC for oneD normalization"
   ]
  },
  {
   "cell_type": "markdown",
   "metadata": {},
   "source": [
    "Install dryhic from: https://github.com/qenvio/dryhic"
   ]
  },
  {
   "cell_type": "markdown",
   "metadata": {},
   "source": [
    "From an R console type:"
   ]
  },
  {
   "cell_type": "markdown",
   "metadata": {},
   "source": [
    "```\n",
    "install.packages(\"devtools\")\n",
    "\n",
    "devtools::install_github(\"qenvio/dryhic\")\n",
    "```"
   ]
  },
  {
   "cell_type": "markdown",
   "metadata": {},
   "source": [
    "__Or__ execute this cell:"
   ]
  },
  {
   "cell_type": "code",
   "execution_count": 13,
   "metadata": {},
   "outputs": [
    {
     "name": "stdout",
     "output_type": "stream",
     "text": [
      "\n",
      "R version 3.4.2 (2017-09-28) -- \"Short Summer\"\n",
      "Copyright (C) 2017 The R Foundation for Statistical Computing\n",
      "Platform: x86_64-pc-linux-gnu (64-bit)\n",
      "\n",
      "R is free software and comes with ABSOLUTELY NO WARRANTY.\n",
      "You are welcome to redistribute it under certain conditions.\n",
      "Type 'license()' or 'licence()' for distribution details.\n",
      "\n",
      "  Natural language support but running in an English locale\n",
      "\n",
      "R is a collaborative project with many contributors.\n",
      "Type 'contributors()' for more information and\n",
      "'citation()' on how to cite R or R packages in publications.\n",
      "\n",
      "Type 'demo()' for some demos, 'help()' for on-line help, or\n",
      "'help.start()' for an HTML browser interface to help.\n",
      "Type 'q()' to quit R.\n",
      "\n",
      "> install.packages(\"devtools\", repos=\"http://cran.us.r-project.org\"); devtools::install_github(\"qenvio/dryhic\", force=TRUE)\n",
      "gfortran   -fpic  -g -O2 -fstack-protector-strong  -c fwdb.f -o fwdb.o\n",
      "gfortran   -fpic  -g -O2 -fstack-protector-strong  -c viterbi.f -o viterbi.o\n",
      "gcc -std=gnu99 -shared -L/usr/lib/R/lib -Wl,-Bsymbolic-functions -Wl,-z,relro -o dryhic.so fwdb.o viterbi.o -lgfortran -lm -lquadmath -L/usr/lib/R/lib -lR\n",
      "> \n",
      "> \n"
     ]
    },
    {
     "name": "stderr",
     "output_type": "stream",
     "text": [
      "Installing package into ‘/home/fransua/R/x86_64-pc-linux-gnu-library/3.4’\n",
      "(as ‘lib’ is unspecified)\n",
      "trying URL 'http://cran.us.r-project.org/src/contrib/devtools_1.13.6.tar.gz'\n",
      "Content type 'application/x-gzip' length 486446 bytes (475 KB)\n",
      "==================================================\n",
      "downloaded 475 KB\n",
      "\n",
      "* installing *source* package ‘devtools’ ...\n",
      "** package ‘devtools’ successfully unpacked and MD5 sums checked\n",
      "** R\n",
      "** inst\n",
      "** preparing package for lazy loading\n",
      "** help\n",
      "*** installing help indices\n",
      "** building package indices\n",
      "** installing vignettes\n",
      "** testing if installed package can be loaded\n",
      "* DONE (devtools)\n",
      "\n",
      "The downloaded source packages are in\n",
      "\t‘/tmp/Rtmp1j1AUG/downloaded_packages’\n",
      "Downloading GitHub repo qenvio/dryhic@master\n",
      "from URL https://api.github.com/repos/qenvio/dryhic/zipball/master\n",
      "Installing dryhic\n",
      "'/usr/lib/R/bin/R' --no-site-file --no-environ --no-save --no-restore --quiet  \\\n",
      "  CMD INSTALL '/tmp/Rtmp1j1AUG/devtools6acf4c30139e/qenvio-dryhic-764e0f0'  \\\n",
      "  --library='/home/fransua/R/x86_64-pc-linux-gnu-library/3.4' --install-tests \n",
      "\n",
      "* installing *source* package ‘dryhic’ ...\n",
      "** libs\n",
      "installing to /home/fransua/R/x86_64-pc-linux-gnu-library/3.4/dryhic/libs\n",
      "** R\n",
      "** inst\n",
      "** preparing package for lazy loading\n",
      "** help\n",
      "*** installing help indices\n",
      "** building package indices\n",
      "** testing if installed package can be loaded\n",
      "* DONE (dryhic)\n"
     ]
    }
   ],
   "source": [
    "%%bash\n",
    "\n",
    "R -e '\n",
    "install.packages(\"devtools\", repos=\"http://cran.us.r-project.org\"); devtools::install_github(\"qenvio/dryhic\")'"
   ]
  },
  {
   "cell_type": "markdown",
   "metadata": {},
   "source": [
    "## DSRC FASTQ compressor"
   ]
  },
  {
   "cell_type": "markdown",
   "metadata": {},
   "source": [
    "DSRC is a FASTQ compressor, it's not needed, but we use it as the size of the files is significantly smaller than using gunzip (>30%), and, more importantly, the access to them can be parallelized, and is much faster than any other alternative.\n",
    "\n",
    "It can be downloaded from https://github.com/lrog/dsrc"
   ]
  },
  {
   "cell_type": "code",
   "execution_count": 9,
   "metadata": {},
   "outputs": [
    {
     "name": "stderr",
     "output_type": "stream",
     "text": [
      "2018-09-28 00:46:48 URL:http://sun.aei.polsl.pl/dsrc/download/2.0rc/dsrc [1761768/1761768] -> \"dsrc\" [1]\n"
     ]
    }
   ],
   "source": [
    "%%bash\n",
    "\n",
    "wget -nv http://sun.aei.polsl.pl/dsrc/download/2.0rc/dsrc"
   ]
  },
  {
   "cell_type": "code",
   "execution_count": 10,
   "metadata": {},
   "outputs": [],
   "source": [
    "%%bash\n",
    "\n",
    "chmod +x dsrc"
   ]
  },
  {
   "cell_type": "markdown",
   "metadata": {},
   "source": [
    "And copy to somewhere in your PATH, like:"
   ]
  },
  {
   "cell_type": "code",
   "execution_count": 11,
   "metadata": {},
   "outputs": [],
   "source": [
    "%%bash\n",
    "\n",
    "mv dsrc ~/miniconda2/bin/"
   ]
  },
  {
   "cell_type": "markdown",
   "metadata": {},
   "source": [
    "### Chimera - visualization"
   ]
  },
  {
   "cell_type": "markdown",
   "metadata": {},
   "source": [
    "Chimera is a program used for visualization and analysis of molecular structures. It is used in TADbit to visualize the generated 3D models. Chimera is available at: http://www.cgl.ucsf.edu/chimera/\n",
    "\n",
    "*This software is only needed for the visualization of 3D models from inside TADbit.*"
   ]
  },
  {
   "cell_type": "markdown",
   "metadata": {},
   "source": [
    "### LiftOver"
   ]
  },
  {
   "cell_type": "markdown",
   "metadata": {},
   "source": [
    "TADbit provides a wrapper for the LiftOver tool [Fujita2011]_ (download it from: http://hgdownload.cse.ucsc.edu/admin/exe/ ).\n",
    "\n",
    "This can be used to ease the conversion of genomic TAD coordinates (e.g.: to align human TADs with mouse TADs)."
   ]
  },
  {
   "cell_type": "raw",
   "metadata": {},
   "source": [
    ".. note::\n",
    "   A 'chain' file may also be downloaded. For example, to convert coordinates to hg19, the chain file needed may be found at: http://hgdownload.cse.ucsc.edu/goldenPath/hg19/liftOver/"
   ]
  },
  {
   "cell_type": "markdown",
   "metadata": {},
   "source": [
    "## TADbit"
   ]
  },
  {
   "cell_type": "markdown",
   "metadata": {},
   "source": [
    "Once all the needed library/software have been installed, TADbit can be downloaded, unpacked and installed as:\n",
    "```\n",
    "wget https://github.com/3DGenomes/tadbit/archive/master.zip -O tadbit.zip\n",
    "unzip tadbit.zip\n",
    "cd TADbit-master\n",
    "python setup.py install\n",
    "```"
   ]
  },
  {
   "cell_type": "raw",
   "metadata": {},
   "source": [
    ".. note:: IMP not found problem\n",
    "\t  If you are under **debian/Ubuntu machines**, and you have\n",
    "\t  followed the quick tutorial proposed here to install IMP,\n",
    "\t  you may encounter some warning message stating that IMP is\n",
    "\t  not installed. This is because root user is not using the\n",
    "\t  PYTHONPATH declared in your bashrc file. You can perfectly\n",
    "\t  ignore the warning, or just proceed like this:"
   ]
  },
  {
   "cell_type": "markdown",
   "metadata": {},
   "source": [
    "```\n",
    "sudo PYTHONPATH=$PYTHONPATH python setup.py install\n",
    "```\n",
    "\n",
    "Finally, run the test script to check that the installation completed successfully.\n",
    "\n",
    "To do so, move to the test directory and run:\n",
    "\n",
    "```\n",
    "cd test\n",
    "python test_all.py\n",
    "```"
   ]
  },
  {
   "cell_type": "markdown",
   "metadata": {},
   "source": [
    "### Conda builds\n",
    "\n",
    "Alternatively we regularly build a conda package in bioconda. The packages come without IMP and with gem v3 as the default mapper"
   ]
  },
  {
   "cell_type": "code",
   "execution_count": null,
   "metadata": {},
   "outputs": [],
   "source": [
    "%%bash\n",
    "conda create -n tadbit -c conda-forge python=3.7\n",
    "conda activate tadbit\n",
    "conda install -c bioconda samtools==1.12 tadbit"
   ]
  },
  {
   "cell_type": "markdown",
   "metadata": {},
   "source": [
    "If you want to install TADbit with IMP in conda this line will create a environment with them:"
   ]
  },
  {
   "cell_type": "code",
   "execution_count": 2,
   "metadata": {},
   "outputs": [],
   "source": [
    "%%bash\n",
    "\n",
    "conda create -n tadbit python=3.7 r-base r-essentials r-devtools imp tadbit -c conda-forge -c bioconda"
   ]
  },
  {
   "cell_type": "markdown",
   "metadata": {},
   "source": [
    "If you wish then to have the last version of TADbit from github remove the TADbit conda package leaving the dependencies:"
   ]
  },
  {
   "cell_type": "code",
   "execution_count": null,
   "metadata": {},
   "outputs": [],
   "source": [
    "%%bash\n",
    "\n",
    "conda remove tadbit --force"
   ]
  },
  {
   "cell_type": "markdown",
   "metadata": {},
   "source": [
    "And install TADbit from source as explained before."
   ]
  }
 ],
 "metadata": {
  "kernelspec": {
   "display_name": "Python 3",
   "language": "python",
   "name": "python3"
  },
  "language_info": {
   "codemirror_mode": {
    "name": "ipython",
    "version": 3
   },
   "file_extension": ".py",
   "mimetype": "text/x-python",
   "name": "python",
   "nbconvert_exporter": "python",
   "pygments_lexer": "ipython3",
   "version": "3.7.10"
  }
 },
 "nbformat": 4,
 "nbformat_minor": 1
}
